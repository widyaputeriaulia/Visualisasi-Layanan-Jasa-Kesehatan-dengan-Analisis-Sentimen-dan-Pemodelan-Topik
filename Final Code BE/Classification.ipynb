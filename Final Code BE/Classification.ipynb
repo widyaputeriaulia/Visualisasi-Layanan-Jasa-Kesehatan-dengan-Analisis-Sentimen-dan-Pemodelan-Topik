{
 "cells": [
  {
   "cell_type": "code",
   "execution_count": 1,
   "metadata": {},
   "outputs": [],
   "source": [
    "%matplotlib inline\n",
    "from matplotlib.pyplot import *\n",
    "import matplotlib.pyplot as plt\n",
    "import utils\n",
    "import importlib\n",
    "importlib.reload(utils)\n",
    "from utils import *"
   ]
  },
  {
   "cell_type": "code",
   "execution_count": 2,
   "metadata": {},
   "outputs": [],
   "source": [
    "import re, string\n",
    "import pandas as pd\n",
    "import numpy as np\n",
    "import csv\n",
    "import xlsxwriter\n",
    "from sklearn.model_selection import train_test_split\n",
    "from sklearn.feature_extraction.text import CountVectorizer, TfidfVectorizer, TfidfTransformer\n",
    "from sklearn.model_selection import cross_val_score\n",
    "from sklearn.naive_bayes import MultinomialNB\n",
    "from sklearn import linear_model\n",
    "from sklearn.linear_model import LogisticRegression\n",
    "from sklearn.feature_extraction.text import TfidfVectorizer\n",
    "from sklearn.metrics import accuracy_score\n",
    "from sklearn.metrics import precision_score\n",
    "from sklearn.metrics import recall_score\n",
    "from nltk.tokenize import word_tokenize \n",
    "from nltk.tokenize import sent_tokenize \n",
    "from sklearn.model_selection import KFold \n",
    "from sklearn.model_selection import RepeatedKFold\n"
   ]
  },
  {
   "cell_type": "code",
   "execution_count": 3,
   "metadata": {
    "scrolled": true
   },
   "outputs": [],
   "source": [
    "df = pd.read_excel(\"file skripsi\\\\Data Training RS V10.xlsx\")\n",
    "df.replace('', np.nan, inplace=True)\n",
    "df.dropna(inplace=True)\n"
   ]
  },
  {
   "cell_type": "code",
   "execution_count": 4,
   "metadata": {},
   "outputs": [],
   "source": [
    "positif = df.loc[df['sent'] == 1, 'Review'].copy().reset_index(drop=True)\n",
    "netral = df.loc[df['sent'] == 0, 'Review'].copy().reset_index(drop=True)\n",
    "negatif = df.loc[df['sent'] == -1, 'Review'].copy().reset_index(drop=True)"
   ]
  },
  {
   "cell_type": "code",
   "execution_count": 5,
   "metadata": {},
   "outputs": [
    {
     "data": {
      "text/plain": [
       "(2771, 2788, 2738)"
      ]
     },
     "execution_count": 5,
     "metadata": {},
     "output_type": "execute_result"
    }
   ],
   "source": [
    "len(positif), len(netral), len(negatif)"
   ]
  },
  {
   "cell_type": "code",
   "execution_count": 6,
   "metadata": {},
   "outputs": [],
   "source": [
    "vect = TfidfVectorizer(max_features=1500, min_df=5, max_df=0.7)\n"
   ]
  },
  {
   "cell_type": "code",
   "execution_count": 7,
   "metadata": {},
   "outputs": [],
   "source": [
    "X_train, X_test, y_train, y_test = train_test_split(df['Review'].values, df['sent'].values, test_size=0.2, random_state=0)"
   ]
  },
  {
   "cell_type": "code",
   "execution_count": 8,
   "metadata": {},
   "outputs": [
    {
     "name": "stdout",
     "output_type": "stream",
     "text": [
      "  (0, 1066)\t0.5837152637700084\n",
      "  (0, 430)\t0.8119584292572555\n",
      "  (2, 1383)\t0.5452791055425255\n",
      "  (2, 1471)\t0.3320611429023645\n",
      "  (2, 480)\t0.3457369860281216\n",
      "  (2, 410)\t0.45418564011746254\n",
      "  (2, 1167)\t0.3457369860281216\n",
      "  (2, 956)\t0.3834753860791987\n",
      "  (3, 926)\t0.22558147419715285\n",
      "  (3, 85)\t0.6325321595552098\n",
      "  (3, 767)\t0.563067297631591\n",
      "  (3, 911)\t0.29421485721133483\n",
      "  (3, 198)\t0.38132519161659506\n",
      "  (4, 926)\t0.09094022091016112\n",
      "  (4, 207)\t0.17994425411316706\n",
      "  (4, 1158)\t0.16447775865012323\n",
      "  (4, 498)\t0.2553355485335449\n",
      "  (4, 720)\t0.19846586154213533\n",
      "  (4, 924)\t0.25057463669383984\n",
      "  (4, 1083)\t0.25057463669383984\n",
      "  (4, 669)\t0.47844105310956575\n",
      "  (4, 438)\t0.15103144798064194\n",
      "  (4, 552)\t0.404559664656427\n",
      "  (4, 1365)\t0.1689270335067535\n",
      "  (4, 1233)\t0.27528802096794347\n",
      "  :\t:\n",
      "  (6634, 926)\t0.08256492078364698\n",
      "  (6634, 911)\t0.21537075653469123\n",
      "  (6634, 340)\t0.10396163894540267\n",
      "  (6634, 1028)\t0.2883193076392715\n",
      "  (6634, 962)\t0.13315804046475085\n",
      "  (6634, 434)\t0.1994973225475217\n",
      "  (6634, 750)\t0.18018779779161218\n",
      "  (6634, 872)\t0.15637277003458236\n",
      "  (6634, 167)\t0.14339796526002865\n",
      "  (6634, 1185)\t0.15705427457939355\n",
      "  (6634, 1261)\t0.16690678107268062\n",
      "  (6634, 913)\t0.18812247799542298\n",
      "  (6634, 678)\t0.1954959053897535\n",
      "  (6634, 1363)\t0.42356300829649557\n",
      "  (6634, 102)\t0.25924723130044336\n",
      "  (6634, 32)\t0.23181997060187076\n",
      "  (6634, 794)\t0.23680986976265972\n",
      "  (6634, 648)\t0.22193468408530528\n",
      "  (6634, 780)\t0.23680986976265972\n",
      "  (6635, 1169)\t0.5707445647357187\n",
      "  (6635, 456)\t0.5103622035017104\n",
      "  (6635, 7)\t0.4749838167492723\n",
      "  (6635, 408)\t0.43378731757372463\n",
      "  (6636, 526)\t0.6423938685043943\n",
      "  (6636, 799)\t0.7663746588372812\n"
     ]
    }
   ],
   "source": [
    "tfidf_train = vect.fit_transform(X_train)\n",
    "tfidf_test = vect.transform(X_test)\n",
    "print(tfidf_train)"
   ]
  },
  {
   "cell_type": "code",
   "execution_count": 10,
   "metadata": {},
   "outputs": [],
   "source": [
    "nb = MultinomialNB()\n",
    "nb.fit(tfidf_train, y_train)\n",
    "preds = nb.predict(tfidf_test)\n"
   ]
  },
  {
   "cell_type": "code",
   "execution_count": 11,
   "metadata": {},
   "outputs": [
    {
     "name": "stdout",
     "output_type": "stream",
     "text": [
      "Scores from each Iteration :  [0.8202501130028628, 0.8151273165586862, 0.8219074883230375, 0.8130179297875546, 0.8169353623625132, 0.8074431218924213, 0.8139219526894681, 0.8188940786499924, 0.8191954196172969, 0.8199487720355583]\n",
      "Average K-fold Score :  0.816664155491939\n"
     ]
    }
   ],
   "source": [
    "kf = RepeatedKFold(n_splits=5, n_repeats=10, random_state=None) \n",
    "# n_split 5 ini aku masih ragu harusnya 5 atau 10 gitu\n",
    "nb = MultinomialNB()\n",
    "X = df['Review']\n",
    "Y = df['sent']\n",
    "scores = []\n",
    "for i in range (10):    \n",
    "    result = next(kf.split(X), None)\n",
    "    x_train = X.iloc[result[0]]\n",
    "    x_test = X.iloc[result[1]]\n",
    "    y_train = Y.iloc[result[0]]\n",
    "    y_test = Y.iloc[result[0]]\n",
    "    tfidf_xtrain = vect.fit_transform(x_train)\n",
    "    tfidf_xtest = vect.transform(x_test)\n",
    "    model = nb.fit(tfidf_xtrain,y_train)\n",
    "    predictions = nb.predict(tfidf_xtest)\n",
    "    scores.append(model.score(tfidf_xtrain,y_train))\n",
    "print('Scores from each Iteration : ', scores)\n",
    "print('Average K-fold Score : ', np.mean(scores))"
   ]
  },
  {
   "cell_type": "code",
   "execution_count": 12,
   "metadata": {},
   "outputs": [],
   "source": [
    "def konten(kata):\n",
    "    fo = pd.read_excel(kata)\n",
    "    rev = fo['Review']\n",
    "    rev = rev.values.tolist()\n",
    "#     texts = []\n",
    "#     sentiments = []\n",
    "#     probability = []\n",
    "    item = []\n",
    "    for kalimat in rev:\n",
    "        it = []\n",
    "        kata = sent_tokenize(kalimat)\n",
    "        tf_train = vect.fit_transform(X_train)\n",
    "        tf_test = vect.transform(kata)\n",
    "        nb = MultinomialNB()\n",
    "        nb.fit(tf_train, y_train)\n",
    "        preds = nb.predict(tf_test)\n",
    "\n",
    "        if preds == -1:\n",
    "            pr3 = nb.predict_proba(tf_test)\n",
    "            pr3 = pr3.reshape(-1, 1).tolist()\n",
    "            it.append(kalimat)\n",
    "            it.append('negatif')\n",
    "            it.append(pr3[0])\n",
    "\n",
    "        elif preds  == 0:\n",
    "            pr3 = nb.predict_proba(tf_test)\n",
    "            pr3 = pr3.reshape(-1, 1).tolist()\n",
    "            it.append(kalimat)\n",
    "            it.append('netral')\n",
    "            it.append(pr3[1])\n",
    "        elif preds == 1:\n",
    "            pr3 = nb.predict_proba(tf_test)\n",
    "            pr3 = pr3.reshape(-1, 1).tolist()        \n",
    "            it.append(kalimat)\n",
    "            it.append('positif')\n",
    "            it.append(pr3[2])\n",
    "#             trainDF = pd.DataFrame()\n",
    "#             trainDF['text'] = texts\n",
    "#             trainDF['sentiment'] = sentiments\n",
    "#             trainDF['probabilitas'] = probability\n",
    "        item.append(it)\n",
    "\n",
    "    return item\n"
   ]
  },
  {
   "cell_type": "code",
   "execution_count": 27,
   "metadata": {},
   "outputs": [
    {
     "name": "stdout",
     "output_type": "stream",
     "text": [
      "[['pelayanan bagus bertanya pendaftaran lebih mudah', 'positif', [0.3756198772880598]]]\n"
     ]
    }
   ],
   "source": [
    "cb = konten('E:\\\\kuliah\\\\Pengolahan Bahasa Alami\\\\Bismillah Skripsi Baru\\\\file skripsi\\\\Data Testing Preprocessing v2.xlsx')\n",
    "print(cb)"
   ]
  },
  {
   "cell_type": "code",
   "execution_count": 96,
   "metadata": {},
   "outputs": [
    {
     "name": "stdout",
     "output_type": "stream",
     "text": [
      "exported: file skripsi\\Sentiment Analysis v10 pos.csv\n",
      "-Selesai-\n"
     ]
    }
   ],
   "source": [
    "import csv\n",
    "fileurl = 'file skripsi\\Sentiment Analysis v10 net.csv'\n",
    "\n",
    "with open(fileurl, \"w\",encoding='utf-8', newline ='') as f:\n",
    "    writer = csv.writer(f)\n",
    "    writer.writerows(cb)\n",
    "    \n",
    "    \n",
    "print('exported: '+fileurl)\n",
    "print('-Selesai-')"
   ]
  },
  {
   "cell_type": "code",
   "execution_count": 30,
   "metadata": {},
   "outputs": [],
   "source": [
    "df1 = pd.read_excel(\"file skripsi\\Sentiment Analysis fix v10.xlsx\")\n",
    "df1.replace('', np.nan, inplace=True)\n",
    "df1.dropna(inplace=True)"
   ]
  },
  {
   "cell_type": "code",
   "execution_count": 31,
   "metadata": {},
   "outputs": [
    {
     "data": {
      "text/plain": [
       "5268"
      ]
     },
     "execution_count": 31,
     "metadata": {},
     "output_type": "execute_result"
    }
   ],
   "source": [
    "X= df1['Review'].values\n",
    "Y = df1['sent'].values\n",
    "X_trainp, X_testp, Y_trainp, Y_testp = train_test_split(X, Y, test_size=0.3, random_state=42)\n",
    "len(X)"
   ]
  }
 ],
 "metadata": {
  "kernelspec": {
   "display_name": "Python 3",
   "language": "python",
   "name": "python3"
  },
  "language_info": {
   "codemirror_mode": {
    "name": "ipython",
    "version": 3
   },
   "file_extension": ".py",
   "mimetype": "text/x-python",
   "name": "python",
   "nbconvert_exporter": "python",
   "pygments_lexer": "ipython3",
   "version": "3.7.0"
  }
 },
 "nbformat": 4,
 "nbformat_minor": 2
}
