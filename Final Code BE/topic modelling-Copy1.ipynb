{
 "cells": [
  {
   "cell_type": "code",
   "execution_count": 33,
   "metadata": {},
   "outputs": [],
   "source": [
    "import warnings\n",
    "warnings.filterwarnings('ignore')\n",
    "from pprint import pprint\n",
    "from gensim.models import CoherenceModel, LdaModel\n",
    "from gensim.models import Phrases\n",
    "from gensim.models.wrappers import LdaMallet\n",
    "\n",
    "from gensim.corpora import Dictionary\n",
    "from gensim.test.utils import datapath\n",
    "from gensim import corpora, models\n",
    "from gensim.models.coherencemodel import CoherenceModel\n",
    "from gensim.models.ldamodel import LdaModel\n",
    "from gensim.corpora.dictionary import Dictionary\n",
    "from pprint import pprint\n",
    "import matplotlib.pyplot as plt\n",
    "import operator\n",
    "import numpy as np\n",
    "from numpy import array\n",
    "import pandas as pd\n",
    "import csv"
   ]
  },
  {
   "cell_type": "code",
   "execution_count": 34,
   "metadata": {},
   "outputs": [
    {
     "name": "stdout",
     "output_type": "stream",
     "text": [
      "2585 1405\n"
     ]
    }
   ],
   "source": [
    "fo_pos = pd.ExcelFile('Tugas Akhir\\\\File Positif v4.xlsx')\n",
    "df_pos = pd.read_excel(fo_pos, 'Sheet1')\n",
    "text_pos = df_pos['Review']\n",
    "text_list_pos =  [i.split() for i in text_pos]\n",
    "\n",
    "fo_neg = pd.ExcelFile('Tugas Akhir\\\\File Negatif v4.xlsx')\n",
    "df_neg = pd.read_excel(fo_neg, 'Sheet1')\n",
    "text_neg = df_neg['Review']\n",
    "text_list_neg =  [i.split() for i in text_neg]\n",
    "\n",
    "print(len(text_list_pos), len(text_list_neg))"
   ]
  },
  {
   "cell_type": "code",
   "execution_count": 35,
   "metadata": {},
   "outputs": [],
   "source": [
    "#Create Biagram & Trigram Models \n",
    "\n",
    "# Add bigrams and trigrams to docs,minimum count 10 means only that appear 10 times or more.\n",
    "bigram_pos = Phrases(text_list_pos, min_count=5)    \n",
    "#dia dijadikan satu kata, ketika ada dua kata yang kemunculannya minimal 10 kali\n",
    "trigram_pos = Phrases(bigram_pos[text_list_pos], min_count=10)\n",
    "\n",
    "for idx in range(len(text_list_pos)):\n",
    "    for token in bigram_pos[text_list_pos[idx]]:\n",
    "        if ' ' in token:\n",
    "            # Token is a bigram, add to document.\n",
    "            text_list_pos[idx].append(token)\n",
    "    for token in trigram_pos[text_list_pos[idx]]:\n",
    "        if ' ' in token:\n",
    "            # Token is a bigram, add to document.\n",
    "            text_list_pos[idx].append(token)\n",
    "            \n",
    "bigram_neg = Phrases(text_list_neg, min_count=5)    #dia dijadikan satu kata, ketika ada dua kata yang kemunculannya minimal 10 kali\n",
    "trigram_neg = Phrases(bigram_neg[text_list_neg], min_count=10)\n",
    "\n",
    "for idx in range(len(text_list_neg)):\n",
    "    for token in bigram_neg[text_list_neg[idx]]:\n",
    "        if ' ' in token:\n",
    "            # Token is a bigram, add to document.\n",
    "            text_list_neg[idx].append(token)\n",
    "    for token in trigram_neg[text_list_neg[idx]]:\n",
    "        if ' ' in token:\n",
    "            # Token is a bigram, add to document.\n",
    "            text_list_neg[idx].append(token)"
   ]
  },
  {
   "cell_type": "code",
   "execution_count": 36,
   "metadata": {},
   "outputs": [
    {
     "name": "stdout",
     "output_type": "stream",
     "text": [
      "Dictionary(401 unique tokens: ['fasilitas', 'terus', 'tingkatkan', 'cukup_baik', 'bagus']...)\n",
      "Dictionary(472 unique tokens: ['mobil', 'parkir', 'antre', 'dapat', 'padahal']...)\n"
     ]
    }
   ],
   "source": [
    "dictionary_pos = corpora.Dictionary(text_list_pos)\n",
    "dictionary_pos.filter_extremes(no_below=5, no_above=0.2)# no_below kemunculan ga boleh dibawah 5, \n",
    "print(dictionary_pos)\n",
    "\n",
    "dictionary_neg = corpora.Dictionary(text_list_neg)\n",
    "dictionary_neg.filter_extremes(no_below=5, no_above=0.2)# no_below kemunculan ga boleh dibawah 5, \n",
    "print(dictionary_neg)"
   ]
  },
  {
   "cell_type": "code",
   "execution_count": 37,
   "metadata": {},
   "outputs": [
    {
     "name": "stdout",
     "output_type": "stream",
     "text": [
      "2585\n",
      "[(6, 1), (42, 1)]\n",
      "1405\n",
      "[(163, 1), (244, 1)]\n"
     ]
    }
   ],
   "source": [
    "#build corpus\n",
    "doc_term_matrix_pos = [dictionary_pos.doc2bow(doc) for doc in text_list_pos]\n",
    "\n",
    "print(len(doc_term_matrix_pos))\n",
    "print(doc_term_matrix_pos[100])\n",
    "\n",
    "tfidf_pos = models.TfidfModel(doc_term_matrix_pos)\n",
    "corpus_tfidf_pos = tfidf_pos[doc_term_matrix_pos]\n",
    "\n",
    "doc_term_matrix_neg = [dictionary_neg.doc2bow(doc) for doc in text_list_neg]\n",
    "\n",
    "print(len(doc_term_matrix_neg))\n",
    "print(doc_term_matrix_neg[100])\n",
    "\n",
    "tfidf_neg = models.TfidfModel(doc_term_matrix_neg)\n",
    "corpus_tfidf_neg = tfidf_neg[doc_term_matrix_neg]"
   ]
  },
  {
   "cell_type": "code",
   "execution_count": 38,
   "metadata": {},
   "outputs": [],
   "source": [
    "#function to compute coherence values\n",
    "def compute_coherence_values_pos(dictionary_pos, corpus, texts, limit, start, step):\n",
    "    coherence_values_pos = []\n",
    "    np.random.seed(10)\n",
    "    model_list_pos = []\n",
    "    for num_topics_pos in range(start, limit, step):\n",
    "        model_pos = LdaModel(corpus=corpus, id2word=dictionary_pos, num_topics=num_topics_pos, iterations=100)\n",
    "        #membangun model lda\n",
    "        model_list_pos.append(model_pos)\n",
    "        coherencemodel_pos = CoherenceModel(model=model_pos, texts=texts, dictionary=dictionary_pos, coherence='c_v')\n",
    "        coherence_values_pos.append(coherencemodel_pos.get_coherence())\n",
    "        \n",
    "    return model_list_pos, coherence_values_pos\n",
    "\n",
    "def compute_coherence_values_neg(dictionary_neg, corpus, texts, limit1, start1, step1):\n",
    "    coherence_values_neg = []\n",
    "    np.random.seed(10)\n",
    "    model_list_neg = []\n",
    "    for num_topics_neg in range(start1, limit1, step1):\n",
    "        model_neg = LdaModel(corpus=corpus, id2word=dictionary_neg, num_topics=num_topics_neg, iterations=100)#membangun model lda\n",
    "        model_list_neg.append(model_neg)\n",
    "        coherencemodel_neg = CoherenceModel(model=model_neg, texts=texts, dictionary=dictionary_neg, coherence='c_v')\n",
    "        coherence_values_neg.append(coherencemodel_neg.get_coherence())\n",
    "        \n",
    "    return model_list_neg, coherence_values_neg"
   ]
  },
  {
   "cell_type": "code",
   "execution_count": 39,
   "metadata": {},
   "outputs": [],
   "source": [
    "start=1 #topic k nya mulai dari k=2\n",
    "limit=20 # from 2 until 20\n",
    "step=1 \n",
    "\n",
    "model_list, coherence_values_pos = compute_coherence_values_pos(dictionary_pos, corpus=corpus_tfidf_pos, \n",
    "                                                        texts=text_list_pos, start=start, limit=limit, step=step)\n",
    "\n",
    "\n"
   ]
  },
  {
   "cell_type": "code",
   "execution_count": 40,
   "metadata": {},
   "outputs": [],
   "source": [
    "start1=1 #topic k nya mulai dari k=2\n",
    "limit1=20 # from 2 until 20\n",
    "step1=1\n",
    "model_list_neg, coherence_values_neg = compute_coherence_values_neg(dictionary_neg, corpus=corpus_tfidf_neg, \n",
    "                                                        texts=text_list_neg, start1=start1, limit1=limit1, step1=step1)"
   ]
  },
  {
   "cell_type": "code",
   "execution_count": 41,
   "metadata": {},
   "outputs": [
    {
     "data": {
      "image/png": "[encoded data removed]",
      "text/plain": [
       "<Figure size 432x288 with 1 Axes>"
      ]
     },
     "metadata": {
      "needs_background": "light"
     },
     "output_type": "display_data"
    }
   ],
   "source": [
    "#show graphs\n",
    "\n",
    "x = range(start, limit, step)\n",
    "plt.plot(x, coherence_values_pos)\n",
    "plt.xlabel(\"Num Topics\")\n",
    "plt.ylabel(\"Coherence score\")\n",
    "plt.legend((\"coherence_values\"), loc='best')\n",
    "plt.show()"
   ]
  },
  {
   "cell_type": "code",
   "execution_count": 42,
   "metadata": {},
   "outputs": [
    {
     "data": {
      "image/png": "[encoded data removed]",
      "text/plain": [
       "<Figure size 432x288 with 1 Axes>"
      ]
     },
     "metadata": {
      "needs_background": "light"
     },
     "output_type": "display_data"
    }
   ],
   "source": [
    "x1 = range(start1, limit1, step1)\n",
    "plt.plot(x1, coherence_values_neg)\n",
    "plt.xlabel(\"Num Topics\")\n",
    "plt.ylabel(\"Coherence score\")\n",
    "plt.legend((\"coherence_values\"), loc='best')\n",
    "plt.show()"
   ]
  },
  {
   "cell_type": "code",
   "execution_count": 43,
   "metadata": {},
   "outputs": [
    {
     "name": "stdout",
     "output_type": "stream",
     "text": [
      "Num Topics = 1  has Coherence Value of 0.3069\n",
      "Num Topics = 2  has Coherence Value of 0.331\n",
      "Num Topics = 3  has Coherence Value of 0.3824\n",
      "Num Topics = 4  has Coherence Value of 0.4056\n",
      "Num Topics = 5  has Coherence Value of 0.3866\n",
      "Num Topics = 6  has Coherence Value of 0.4069\n",
      "Num Topics = 7  has Coherence Value of 0.4213\n",
      "Num Topics = 8  has Coherence Value of 0.4239\n",
      "Num Topics = 9  has Coherence Value of 0.3918\n",
      "Num Topics = 10  has Coherence Value of 0.4005\n",
      "Num Topics = 11  has Coherence Value of 0.4167\n",
      "Num Topics = 12  has Coherence Value of 0.4028\n",
      "Num Topics = 13  has Coherence Value of 0.4198\n",
      "Num Topics = 14  has Coherence Value of 0.4054\n",
      "Num Topics = 15  has Coherence Value of 0.4265\n",
      "Num Topics = 16  has Coherence Value of 0.4311\n",
      "Num Topics = 17  has Coherence Value of 0.446\n",
      "Num Topics = 18  has Coherence Value of 0.419\n",
      "Num Topics = 19  has Coherence Value of 0.4273\n"
     ]
    }
   ],
   "source": [
    "# Print the coherence scores\n",
    "for m, cv in zip(x, coherence_values_pos):\n",
    "    print(\"Num Topics =\", m, \" has Coherence Value of\", round(cv, 4))"
   ]
  },
  {
   "cell_type": "code",
   "execution_count": 44,
   "metadata": {},
   "outputs": [
    {
     "name": "stdout",
     "output_type": "stream",
     "text": [
      "Num Topics = 1  has Coherence Value of 0.3145\n",
      "Num Topics = 2  has Coherence Value of 0.2979\n",
      "Num Topics = 3  has Coherence Value of 0.2654\n",
      "Num Topics = 4  has Coherence Value of 0.3325\n",
      "Num Topics = 5  has Coherence Value of 0.3251\n",
      "Num Topics = 6  has Coherence Value of 0.3299\n",
      "Num Topics = 7  has Coherence Value of 0.3493\n",
      "Num Topics = 8  has Coherence Value of 0.3383\n",
      "Num Topics = 9  has Coherence Value of 0.3492\n",
      "Num Topics = 10  has Coherence Value of 0.3441\n",
      "Num Topics = 11  has Coherence Value of 0.3638\n",
      "Num Topics = 12  has Coherence Value of 0.3647\n",
      "Num Topics = 13  has Coherence Value of 0.3566\n",
      "Num Topics = 14  has Coherence Value of 0.3903\n",
      "Num Topics = 15  has Coherence Value of 0.4036\n",
      "Num Topics = 16  has Coherence Value of 0.3743\n",
      "Num Topics = 17  has Coherence Value of 0.3754\n",
      "Num Topics = 18  has Coherence Value of 0.3926\n",
      "Num Topics = 19  has Coherence Value of 0.3832\n"
     ]
    }
   ],
   "source": [
    "for m, cv in zip(x1, coherence_values_neg):\n",
    "    print(\"Num Topics =\", m, \" has Coherence Value of\", round(cv, 4))"
   ]
  },
  {
   "cell_type": "code",
   "execution_count": 45,
   "metadata": {
    "scrolled": true
   },
   "outputs": [
    {
     "name": "stdout",
     "output_type": "stream",
     "text": [
      "[(0,\n",
      "  '0.059*\"sudah\" + 0.045*\"cekatan\" + 0.044*\"semua\" + 0.044*\"perawat\" + '\n",
      "  '0.041*\"dokter\" + 0.028*\"jauh\" + 0.027*\"ramah\" + 0.026*\"bisa\" + '\n",
      "  '0.025*\"harga\" + 0.025*\"baru\"'),\n",
      " (1,\n",
      "  '0.070*\"banyak\" + 0.062*\"ramah\" + 0.031*\"cepat\" + 0.030*\"menangani\" + '\n",
      "  '0.030*\"biasa\" + 0.028*\"pasien\" + 0.028*\"pengunjung\" + 0.025*\"dokter\" + '\n",
      "  '0.025*\"bagus\" + 0.020*\"dapat\"'),\n",
      " (2,\n",
      "  '0.083*\"petugas\" + 0.070*\"sangat_membantu\" + 0.055*\"standar\" + '\n",
      "  '0.046*\"perawat\" + 0.046*\"ramah\" + 0.032*\"sangat_bersih\" + 0.028*\"dokter\" + '\n",
      "  '0.028*\"benar\" + 0.025*\"bahkan\" + 0.024*\"tolong\"'),\n",
      " (3,\n",
      "  '0.156*\"lengkap\" + 0.084*\"prima\" + 0.077*\"fasilitas\" + 0.065*\"unggul\" + '\n",
      "  '0.035*\"kualitas\" + 0.030*\"parkir\" + 0.025*\"igd\" + 0.025*\"nyaman\" + '\n",
      "  '0.024*\"luas\" + 0.024*\"bersih\"'),\n",
      " (4,\n",
      "  '0.045*\"baik\" + 0.044*\"gedung\" + 0.036*\"modern\" + 0.024*\"luas\" + '\n",
      "  '0.024*\"hebat\" + 0.022*\"bersih\" + 0.021*\"terbaik\" + 0.020*\"nyaman\" + '\n",
      "  '0.020*\"ramah\" + 0.017*\"kantin\"'),\n",
      " (5,\n",
      "  '0.046*\"ruang\" + 0.045*\"mumpuni\" + 0.041*\"pendaftaran\" + 0.031*\"bagus\" + '\n",
      "  '0.028*\"baik\" + 0.026*\"tunggu\" + 0.024*\"kelas\" + 0.023*\"secara\" + '\n",
      "  '0.020*\"puas\" + 0.020*\"sistem\"'),\n",
      " (6,\n",
      "  '0.230*\"baik\" + 0.079*\"dokter\" + 0.073*\"terbaik\" + 0.041*\"perawat\" + '\n",
      "  '0.039*\"fasilitas\" + 0.037*\"ramah\" + 0.031*\"cukup_memuaskan\" + '\n",
      "  '0.020*\"memadai\" + 0.019*\"cekatan\" + 0.016*\"swasta\"'),\n",
      " (7,\n",
      "  '0.044*\"lokasi\" + 0.035*\"mahal\" + 0.035*\"cukup_memadai\" + 0.031*\"sehingga\" + '\n",
      "  '0.025*\"nyaman\" + 0.023*\"tengah\" + 0.023*\"bersih\" + 0.021*\"strategis\" + '\n",
      "  '0.020*\"layak\" + 0.018*\"memadai\"'),\n",
      " (8,\n",
      "  '0.109*\"dokter\" + 0.061*\"pelayan\" + 0.049*\"ramah\" + 0.040*\"megah\" + '\n",
      "  '0.035*\"lengkap\" + 0.030*\"anak\" + 0.024*\"pengalaman\" + 0.022*\"terbaik\" + '\n",
      "  '0.021*\"respon\" + 0.020*\"utara\"'),\n",
      " (9,\n",
      "  '0.168*\"memuaskan\" + 0.088*\"nyaman\" + 0.049*\"harga\" + 0.041*\"ramah\" + '\n",
      "  '0.032*\"ruangan\" + 0.028*\"bersih\" + 0.021*\"dokter\" + 0.020*\"benar\" + '\n",
      "  '0.019*\"bpjs\" + 0.017*\"keren\"'),\n",
      " (10,\n",
      "  '0.117*\"sangat_profesional\" + 0.035*\"menjadi\" + 0.031*\"dokter\" + '\n",
      "  '0.028*\"semoga\" + 0.024*\"rekomendasi\" + 0.023*\"hal\" + 0.023*\"baru\" + '\n",
      "  '0.022*\"urusan\" + 0.020*\"relatif\" + 0.016*\"standar\"'),\n",
      " (11,\n",
      "  '0.040*\"murah\" + 0.034*\"maju\" + 0.029*\"ramah\" + 0.028*\"lokasi\" + '\n",
      "  '0.027*\"jalannya\" + 0.027*\"manajemen\" + 0.027*\"makin\" + 0.025*\"keseluruhan\" '\n",
      "  '+ 0.025*\"memuaskan\" + 0.024*\"berkualitas\"'),\n",
      " (12,\n",
      "  '0.133*\"tempat\" + 0.105*\"nyaman\" + 0.093*\"bersih\" + 0.042*\"pusat\" + '\n",
      "  '0.040*\"sangat_baik\" + 0.027*\"modern\" + 0.019*\"lumayan\" + 0.019*\"baik\" + '\n",
      "  '0.018*\"bagus\" + 0.014*\"tarif\"'),\n",
      " (13,\n",
      "  '0.068*\"cukup_bagus\" + 0.066*\"besar\" + 0.041*\"gamelan\" + 0.036*\"petugas\" + '\n",
      "  '0.032*\"indah\" + 0.028*\"cepat\" + 0.028*\"ramah\" + 0.026*\"perawat\" + '\n",
      "  '0.024*\"fasilitas\" + 0.023*\"terus\"'),\n",
      " (14,\n",
      "  '0.286*\"bagus\" + 0.070*\"dokter\" + 0.055*\"besar\" + 0.024*\"baik\" + '\n",
      "  '0.022*\"sudah\" + 0.021*\"makin\" + 0.020*\"luas\" + 0.018*\"bersih\" + '\n",
      "  '0.018*\"pokoknya\" + 0.016*\"tempat\"'),\n",
      " (15,\n",
      "  '0.074*\"fasilitas\" + 0.072*\"bagus\" + 0.061*\"mewah\" + 0.044*\"ramah\" + '\n",
      "  '0.041*\"dokter\" + 0.030*\"menyenangkan\" + 0.029*\"perawat\" + 0.025*\"merasa\" + '\n",
      "  '0.025*\"interior\" + 0.025*\"pasien\"')]\n"
     ]
    }
   ],
   "source": [
    "modelp = LdaModel(corpus=corpus_tfidf_pos, id2word=dictionary_pos, num_topics=16)\n",
    "pprint(modelp.print_topics())"
   ]
  },
  {
   "cell_type": "code",
   "execution_count": 46,
   "metadata": {},
   "outputs": [
    {
     "name": "stdout",
     "output_type": "stream",
     "text": [
      "[(0,\n",
      "  '0.017*\"sekali\" + 0.015*\"susah\" + 0.014*\"parkir\" + 0.013*\"pendaftaran\" + '\n",
      "  '0.013*\"obat\" + 0.013*\"bpjs\" + 0.012*\"dokter\" + 0.012*\"lama\" + '\n",
      "  '0.011*\"pelayanan\" + 0.011*\"pasien\"'),\n",
      " (1,\n",
      "  '0.025*\"antre\" + 0.024*\"parkir\" + 0.020*\"lama\" + 0.020*\"kecewa\" + '\n",
      "  '0.017*\"masih\" + 0.015*\"merasa\" + 0.015*\"pelayanan\" + 0.015*\"rumah_sakit\" + '\n",
      "  '0.012*\"anda\" + 0.011*\"banyak\"'),\n",
      " (2,\n",
      "  '0.027*\"sudah\" + 0.023*\"pelayanan\" + 0.021*\"antrean\" + 0.015*\"lama\" + '\n",
      "  '0.014*\"dokter\" + 0.014*\"tolong\" + 0.012*\"sekali\" + 0.012*\"membingungkan\" + '\n",
      "  '0.011*\"suster\" + 0.011*\"panjang\"'),\n",
      " (3,\n",
      "  '0.017*\"tidak_ada\" + 0.016*\"lama\" + 0.016*\"pelayanan\" + 0.015*\"parkir\" + '\n",
      "  '0.015*\"dokter\" + 0.015*\"menunggu\" + 0.015*\"rumah_sakit\" + 0.015*\"seperti\" + '\n",
      "  '0.014*\"ugd\" + 0.012*\"masuk\"'),\n",
      " (4,\n",
      "  '0.024*\"susah\" + 0.023*\"parkir\" + 0.023*\"penuh\" + 0.021*\"dokter\" + '\n",
      "  '0.014*\"kamar\" + 0.014*\"pelayanan\" + 0.013*\"rumah_sakit\" + 0.012*\"harus\" + '\n",
      "  '0.012*\"balik\" + 0.012*\"antre\"'),\n",
      " (5,\n",
      "  '0.022*\"mungkin\" + 0.021*\"rumah_sakit\" + 0.021*\"mahal\" + '\n",
      "  '0.014*\"tidak_profesional\" + 0.013*\"sedikit\" + 0.013*\"kurang_ramah\" + '\n",
      "  '0.013*\"berbicara\" + 0.012*\"tidak_ada\" + 0.012*\"lama\" + 0.012*\"petugas\"'),\n",
      " (6,\n",
      "  '0.018*\"mereka\" + 0.018*\"pelayanan\" + 0.016*\"ramai\" + 0.015*\"motor\" + '\n",
      "  '0.015*\"parkir\" + 0.013*\"antre\" + 0.013*\"tidak_ada\" + 0.012*\"selalu\" + '\n",
      "  '0.012*\"waktu\" + 0.012*\"pagi\"'),\n",
      " (7,\n",
      "  '0.017*\"poliklinik\" + 0.017*\"pasien\" + 0.016*\"kami\" + 0.016*\"dokter\" + '\n",
      "  '0.016*\"benar\" + 0.011*\"bukan\" + 0.010*\"antrean\" + 0.009*\"masih\" + '\n",
      "  '0.009*\"rumah_sakit\" + 0.009*\"pasti\"'),\n",
      " (8,\n",
      "  '0.027*\"harus\" + 0.021*\"dokter\" + 0.016*\"perawat\" + 0.016*\"mau\" + '\n",
      "  '0.015*\"mobil\" + 0.013*\"waktu\" + 0.013*\"administrasi\" + 0.012*\"pasien\" + '\n",
      "  '0.011*\"satpam\" + 0.011*\"jumlah\"'),\n",
      " (9,\n",
      "  '0.029*\"sedikit\" + 0.021*\"mahal\" + 0.019*\"sudah\" + 0.018*\"kalau\" + '\n",
      "  '0.017*\"antrean\" + 0.016*\"rumah_sakit\" + 0.016*\"pelayanan\" + 0.013*\"igd\" + '\n",
      "  '0.013*\"waktu\" + 0.013*\"dokter\"'),\n",
      " (10,\n",
      "  '0.027*\"antre\" + 0.023*\"waktu\" + 0.022*\"banyak\" + 0.021*\"mahal\" + '\n",
      "  '0.018*\"pelayanan\" + 0.013*\"peningkatan\" + 0.012*\"lama\" + 0.012*\"poliklinik\" '\n",
      "  '+ 0.011*\"pasien\" + 0.011*\"perbaikan\"'),\n",
      " (11,\n",
      "  '0.021*\"antrean\" + 0.018*\"menunggu\" + 0.014*\"bisa\" + 0.013*\"pasien\" + '\n",
      "  '0.013*\"akan\" + 0.012*\"pelayanan\" + 0.012*\"pagi\" + 0.012*\"cuma\" + '\n",
      "  '0.012*\"pakai\" + 0.011*\"kalau\"'),\n",
      " (12,\n",
      "  '0.030*\"parkir\" + 0.019*\"rumah_sakit\" + 0.017*\"petugas\" + 0.016*\"mobil\" + '\n",
      "  '0.015*\"informasi\" + 0.014*\"ribet\" + 0.014*\"dokter\" + 0.014*\"area\" + '\n",
      "  '0.013*\"sempit\" + 0.012*\"tempat\"'),\n",
      " (13,\n",
      "  '0.026*\"rumah_sakit\" + 0.021*\"perawat\" + 0.020*\"sedikit\" + 0.019*\"lama\" + '\n",
      "  '0.015*\"mahal\" + 0.013*\"pelayanan\" + 0.012*\"menunggu\" + 0.012*\"parkir\" + '\n",
      "  '0.011*\"obat\" + 0.011*\"ruang\"'),\n",
      " (14,\n",
      "  '0.032*\"pasien\" + 0.027*\"antrean\" + 0.026*\"obat\" + 0.016*\"banyak\" + '\n",
      "  '0.013*\"memang\" + 0.012*\"biasa\" + 0.012*\"waktu\" + 0.012*\"pelayanan\" + '\n",
      "  '0.012*\"rumah_sakit\" + 0.011*\"jumlah\"')]\n"
     ]
    }
   ],
   "source": [
    "modeln = LdaModel(corpus=corpus_tfidf_neg, id2word=dictionary_neg, num_topics=15)\n",
    "pprint(modeln.print_topics())"
   ]
  },
  {
   "cell_type": "code",
   "execution_count": 47,
   "metadata": {},
   "outputs": [
    {
     "name": "stdout",
     "output_type": "stream",
     "text": [
      "exported: Tugas Akhir\\Topik positif fix 2 v4.csv\n",
      "-Selesai-\n"
     ]
    }
   ],
   "source": [
    "model = LdaModel(corpus=corpus_tfidf_pos, id2word=dictionary_pos, num_topics=16)\n",
    "topik_pos = []\n",
    "for idx, topic in model.print_topics(-1):\n",
    "    topik_p = []\n",
    "    positif = 'Topic:{} Word:{}'.format(idx, topic)\n",
    "    topik_p.append(positif)\n",
    "    topik_pos.append(topik_p)\n",
    "\n",
    "filename = 'Tugas Akhir\\Topik positif fix 2 v4.csv'\n",
    "#filename = 'Data_Bersih\\Topik Positif 2.csv'\n",
    "\n",
    "with open(filename, \"w\",encoding='utf-8', newline ='') as f:\n",
    "    writer = csv.writer(f)\n",
    "    writer.writerows(topik_pos)\n",
    "    \n",
    "    \n",
    "print('exported: '+filename)\n",
    "print('-Selesai-')"
   ]
  },
  {
   "cell_type": "code",
   "execution_count": 48,
   "metadata": {},
   "outputs": [
    {
     "name": "stdout",
     "output_type": "stream",
     "text": [
      "exported: Tugas Akhir\\Topik negatif fix 2 v4.csv\n",
      "-Selesai-\n"
     ]
    }
   ],
   "source": [
    "model = LdaModel(corpus=corpus_tfidf_neg, id2word=dictionary_neg, num_topics=15)\n",
    "topik_neg = []\n",
    "for idx, topic in model.print_topics(-1):\n",
    "    topik_n = []\n",
    "    negatif = 'Topic:{} Word:{}'.format(idx, topic)\n",
    "    topik_n.append(negatif)\n",
    "    topik_neg.append(topik_n)\n",
    "\n",
    "filename = 'Tugas Akhir\\Topik negatif fix 2 v4.csv'\n",
    "#filename = 'Data_Bersih\\Topik Negatif 2.csv'\n",
    "\n",
    "with open(filename, \"w\",encoding='utf-8', newline ='') as f:\n",
    "    writer = csv.writer(f)\n",
    "    writer.writerows(topik_neg)\n",
    "    \n",
    "    \n",
    "print('exported: '+filename)\n",
    "print('-Selesai-')\n",
    "    \n",
    "    #     print('Topic: {} Word: {}'.format(idx, topic))"
   ]
  },
  {
   "cell_type": "code",
   "execution_count": null,
   "metadata": {},
   "outputs": [],
   "source": []
  }
 ],
 "metadata": {
  "kernelspec": {
   "display_name": "Python 3",
   "language": "python",
   "name": "python3"
  },
  "language_info": {
   "codemirror_mode": {
    "name": "ipython",
    "version": 3
   },
   "file_extension": ".py",
   "mimetype": "text/x-python",
   "name": "python",
   "nbconvert_exporter": "python",
   "pygments_lexer": "ipython3",
   "version": "3.7.0"
  }
 },
 "nbformat": 4,
 "nbformat_minor": 2
}
