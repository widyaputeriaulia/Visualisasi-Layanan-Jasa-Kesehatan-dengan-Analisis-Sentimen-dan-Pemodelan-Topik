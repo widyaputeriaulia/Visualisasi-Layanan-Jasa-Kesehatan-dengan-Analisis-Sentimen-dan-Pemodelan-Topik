{
 "cells": [
  {
   "cell_type": "code",
   "execution_count": null,
   "metadata": {},
   "outputs": [],
   "source": [
    "import time\n",
    "import csv\n",
    "\n",
    "from selenium import webdriver\n",
    "from selenium.common.exceptions import NoSuchElementException\n",
    "from selenium.webdriver.common.by import By\n",
    "from selenium.webdriver.support import expected_conditions as EC\n",
    "from selenium.webdriver.support.wait import WebDriverWait\n",
    "from datetime import date\n",
    "\n",
    "driver = webdriver.Firefox()\n",
    "namaRS = 'sari asih '\n",
    "query = 'Rumah Sakit ' + namaRS + ' ciputat'\n",
    "tgl = (date.today().strftime(\"%d/%m/%Y\"))\n",
    "\n",
    "driver.get('https://www.google.com/?hl=id')\n",
    "driver.find_element_by_name('q').send_keys(query)\n",
    "WebDriverWait(driver, 7).until(EC.element_to_be_clickable((By.NAME, 'btnK'))).click()\n",
    "\n",
    "reviews_header = driver.find_element_by_css_selector('div.kp-header')\n",
    "reviews_link = reviews_header.find_element_by_partial_link_text('ulasan Google')\n",
    "number_of_reviews = int(reviews_link.text.split()[0])\n",
    "reviews_link.click()\n",
    "\n",
    "all_reviews = WebDriverWait(driver, 7).until(EC.presence_of_all_elements_located((By.CSS_SELECTOR, 'div[class*=\"WMbnJf gws-localreviews__google-review r-iXyMSdtUHaaI\"]')))\n",
    "\n",
    "allrevnum = len(all_reviews)\n",
    "counter = 0\n",
    "\n",
    "while len(all_reviews) < number_of_reviews:\n",
    "    driver.execute_script('arguments[0].scrollIntoView(true);', all_reviews[-1])\n",
    "    WebDriverWait(driver, 7, 0.25).until_not(EC.presence_of_element_located((By.CSS_SELECTOR, 'div[class$=\"activityIndicator\"]')))\n",
    "    all_reviews = driver.find_elements_by_css_selector('div[class*=\"gws-localreviews__general-reviews-block\"]')\n",
    "    \n",
    "    if allrevnum == len(all_reviews):\n",
    "        counter = counter+1\n",
    "    else:\n",
    "        allrevnum = len(all_reviews)\n",
    "        counter = 1\n",
    "    if counter == 5:\n",
    "        break;\n",
    "    \n",
    "reviews = []\n",
    "for review in all_reviews:\n",
    "    item_review = []\n",
    "    try:\n",
    "        full_text_element = review.find_element_by_css_selector('span.review-full-text')\n",
    "    except NoSuchElementException:\n",
    "        full_text_element = review.find_element_by_css_selector('span[class^=\"r-\"]')\n",
    "    \n",
    "    \n",
    "    writer = review.find_element_by_css_selector('div[class=\"TSUbDb\"]').get_attribute('textContent')\n",
    "    date = review.find_element_by_css_selector('span[class=\"dehysf\"]').get_attribute('textContent')\n",
    "    star = review.find_element_by_css_selector('span[class^=\"fTKmHE99XE4__star\"]').get_attribute('aria-label')\n",
    "    star = star[13:14]\n",
    "    \n",
    "    item_review.append(writer)\n",
    "    item_review.append(date)\n",
    "    item_review.append(star)\n",
    "    item_review.append(full_text_element.get_attribute('textContent'))\n",
    "    item_review.append(tgl)\n",
    "    \n",
    "    reviews.append(item_review)\n",
    "            \n",
    "driver.quit()\n",
    "\n",
    "print('Jumlah review: ' + str(number_of_reviews))    \n",
    "print('Review terambil: ' + str(len(reviews)))\n",
    "print('Data review: ')\n",
    "print(reviews)\n",
    "\n"
   ]
  },
  {
   "cell_type": "code",
   "execution_count": 14,
   "metadata": {},
   "outputs": [
    {
     "name": "stdout",
     "output_type": "stream",
     "text": [
      "exported: review Universitas Hasanuddin .csv\n",
      "-Selesai-\n"
     ]
    }
   ],
   "source": [
    "import csv\n",
    "fileurl = 'review '+namaRS+'.csv'\n",
    "\n",
    "with open(fileurl, \"w\",encoding='utf-8', newline ='') as f:\n",
    "    writer = csv.writer(f)\n",
    "    writer.writerows(reviews)\n",
    "    \n",
    "print('exported: '+fileurl)\n",
    "print('-Selesai-')"
   ]
  },
  {
   "cell_type": "code",
   "execution_count": null,
   "metadata": {},
   "outputs": [],
   "source": []
  }
 ],
 "metadata": {
  "kernelspec": {
   "display_name": "Python 3",
   "language": "python",
   "name": "python3"
  },
  "language_info": {
   "codemirror_mode": {
    "name": "ipython",
    "version": 3
   },
   "file_extension": ".py",
   "mimetype": "text/x-python",
   "name": "python",
   "nbconvert_exporter": "python",
   "pygments_lexer": "ipython3",
   "version": "3.7.0"
  }
 },
 "nbformat": 4,
 "nbformat_minor": 2
}
