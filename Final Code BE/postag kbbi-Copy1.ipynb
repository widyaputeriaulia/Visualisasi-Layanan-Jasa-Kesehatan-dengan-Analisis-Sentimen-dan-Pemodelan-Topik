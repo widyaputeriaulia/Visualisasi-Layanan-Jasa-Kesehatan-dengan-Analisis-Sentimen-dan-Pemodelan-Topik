{
 "cells": [
  {
   "cell_type": "code",
   "execution_count": 86,
   "metadata": {},
   "outputs": [],
   "source": [
    "from selenium import webdriver\n",
    "from selenium.common.exceptions import NoSuchElementException\n",
    "from selenium.webdriver.common.by import By\n",
    "from selenium.webdriver.support import expected_conditions as EC\n",
    "from selenium.webdriver.support.wait import WebDriverWait\n",
    "from datetime import date\n",
    "import pandas as pd\n",
    "import csv\n"
   ]
  },
  {
   "cell_type": "code",
   "execution_count": 87,
   "metadata": {},
   "outputs": [],
   "source": [
    "def pos_tag(pos):\n",
    "    driver = webdriver.Firefox()\n",
    "    que = []\n",
    "\n",
    "    driver.get('https://kbbi.kemdikbud.go.id/Account/Login')\n",
    "    WebDriverWait(driver, 5).until(EC.element_to_be_clickable((By.CSS_SELECTOR, 'a[id$=\"loginLink\"]'))).click()\n",
    "    us = \"widyaputriaulia@gmail.com\"\n",
    "    pw = \"wpaulia10\"\n",
    "    driver.find_element_by_name('Posel').send_keys(us)\n",
    "    driver.find_element_by_name('KataSandi').send_keys(pw)\n",
    "    WebDriverWait(driver, 5).until(EC.element_to_be_clickable((By.CSS_SELECTOR, 'input[class$=\"btn btn-default\"]'))).click()\n",
    "    for query in pos:\n",
    "        pt = []   \n",
    "        \n",
    "        driver.get('https://kbbi.kemdikbud.go.id')\n",
    "        driver.find_element_by_name('frasa').send_keys(query)\n",
    "        WebDriverWait(driver, 5).until(EC.element_to_be_clickable((By.CSS_SELECTOR, \n",
    "                                                                   'span[class$=\"btn btn-primary glyphicon glyphicon-search\"]'\n",
    "                                                                  ))).click()\n",
    "        div = driver.find_element_by_css_selector('div[class$=\"container body-content\"]')\n",
    "        ol = div.find_element_by_css_selector('i')\n",
    "        sp = ol.find_element_by_css_selector('span').get_attribute('textContent')\n",
    "        pt.append(query)\n",
    "        pt.append(sp)\n",
    "        que.append(pt)\n",
    "    return que\n",
    "# cb = ['ramah','nyaman']\n",
    "# bb = pos_tag(cb)\n",
    "# print(bb)"
   ]
  },
  {
   "cell_type": "code",
   "execution_count": 107,
   "metadata": {
    "scrolled": true
   },
   "outputs": [],
   "source": [
    "import pandas as pd\n",
    "import csv\n",
    "pos = pd.read_excel('Tugas Akhir\\\\Topik positif fix 2 v4.xlsx')\n"
   ]
  },
  {
   "cell_type": "code",
   "execution_count": 89,
   "metadata": {},
   "outputs": [
    {
     "name": "stdout",
     "output_type": "stream",
     "text": [
      "[['berkualitas', 'v'], ['tempat', 'n'], ['parkir', 'v'], ['luas', 'a'], ['murah', 'a'], ['bersih', 'a'], ['nyaman', 'a'], ['sistem', 'n'], ['pegawai', 'n'], ['taman', 'n']]\n"
     ]
    }
   ],
   "source": [
    "pos0 = pos['Topic:0'].values\n",
    "# pos0 = pos0.tolist()\n",
    "pt0 = pos_tag(pos0)\n",
    "#print(pt0)\n",
    "print(pt0)"
   ]
  },
  {
   "cell_type": "code",
   "execution_count": 90,
   "metadata": {},
   "outputs": [
    {
     "name": "stdout",
     "output_type": "stream",
     "text": [
      "[['lengkap', 'a'], ['fasilitas', 'n'], ['bagus', 'a'], ['standar', 'n'], ['pelayan', 'n'], ['sudah', 'adv'], ['lokasi', 'n'], ['ramah', 'a'], ['secara', 'p'], ['keseluruhan', 'n']]\n"
     ]
    }
   ],
   "source": [
    "pos1 = pos['Topic:1'].values\n",
    "pt1 = pos_tag(pos1)\n",
    "print(pt1)"
   ]
  },
  {
   "cell_type": "code",
   "execution_count": 95,
   "metadata": {},
   "outputs": [
    {
     "name": "stdout",
     "output_type": "stream",
     "text": [
      "[['profesional', 'a'], ['petugas', 'n'], ['selalu', 'adv'], ['sampai', 'v'], ['ramah', 'a'], ['jauh', 'a'], ['baik', 'a'], ['swasta', 'a'], ['beri', 'v'], ['sudah', 'adv']]\n"
     ]
    }
   ],
   "source": [
    "pos2 = pos['Topic:2'].values\n",
    "pt2 = pos_tag(pos2)\n",
    "print(pt2)"
   ]
  },
  {
   "cell_type": "code",
   "execution_count": 100,
   "metadata": {},
   "outputs": [
    {
     "name": "stdout",
     "output_type": "stream",
     "text": [
      "[['tempat', 'n'], ['nyaman', 'a'], ['fasilitas', 'n'], ['kualitas', 'n'], ['modern', 'a'], ['lengkap', 'a'], ['masih', 'adv'], ['merasa', 'v'], ['indah', 'a'], ['rawat', 'v']]\n",
      "[['prima', 'a'], ['unggul', 'a'], ['pusat', 'n'], ['perawat', 'n'], ['ramah', 'a'], ['petugas', 'n'], ['luas', 'a'], ['besar', 'a'], ['memuaskan', 'v'], ['dokter', 'n']]\n"
     ]
    }
   ],
   "source": [
    "pos3 = pos['Topic:3'].values\n",
    "pt3 = pos_tag(pos3)\n",
    "pos4 = pos['Topic:4'].values\n",
    "pt4 = pos_tag(pos4)\n",
    "print(pt3)\n",
    "print(pt4)"
   ]
  },
  {
   "cell_type": "code",
   "execution_count": 84,
   "metadata": {},
   "outputs": [
    {
     "name": "stdout",
     "output_type": "stream",
     "text": [
      "[['bagus', 'a'], ['dokter', 'n'], ['harga', 'n'], ['nyaman', 'a'], ['baik', 'a'], ['seperti', 'p'], ['makanan', 'n'], ['ramah', 'a'], ['perawat', 'n'], ['tempat', 'n']]\n",
      "[['nyaman', 'a'], ['standar', 'n'], ['atas', 'n'], ['interior', 'n'], ['penanganan', 'n'], ['bersih', 'a'], ['bagus', 'a'], ['banget', 'adv'], ['sudah', 'adv'], ['parkir', 'v']]\n"
     ]
    }
   ],
   "source": [
    "\n",
    "pos5 = pos['Topic:5'].values\n",
    "pt5 = pos_tag(pos5)\n",
    "pos6 = pos['Topic:6'].values\n",
    "pt6 = pos_tag(pos6)\n",
    "print(pt5)\n",
    "print(pt6)"
   ]
  },
  {
   "cell_type": "code",
   "execution_count": 101,
   "metadata": {},
   "outputs": [
    {
     "name": "stdout",
     "output_type": "stream",
     "text": [
      "[['enak', 'a'], ['nyaman', 'a'], ['ruang', 'n'], ['besar', 'a'], ['tunggu', 'v'], ['ramah', 'a'], ['sebagai', 'p'], ['maju', 'v'], ['bersih', 'a'], ['pelayan', 'n']]\n"
     ]
    }
   ],
   "source": [
    "pos7 = pos['Topic:7'].values\n",
    "pt7 = pos_tag(pos7)\n",
    "print(pt7)"
   ]
  },
  {
   "cell_type": "code",
   "execution_count": 104,
   "metadata": {},
   "outputs": [
    {
     "name": "stdout",
     "output_type": "stream",
     "text": [
      "[['mewah', 'a'], ['membantu', 'v'], ['ruang', 'n'], ['secara', 'p'], ['sleman', 'n'], ['bisa', 'v'], ['makanan', 'n'], ['walaupun', 'p'], ['internasional', 'a'], ['memuaskan', 'v']]\n",
      "[['bagus', 'a'], ['dokter', 'n'], ['perawat', 'n'], ['ramah', 'a'], ['mumpuni', 'a'], ['cekatan', 'a'], ['senyum', 'n'], ['interior', 'n'], ['lengkap', 'a'], ['tempat', 'n']]\n"
     ]
    }
   ],
   "source": [
    "pos8 = pos['Topic:8'].values\n",
    "pt8 = pos_tag(pos8)\n",
    "pos9 = pos['Topic:9'].values\n",
    "pt9 = pos_tag(pos9)\n",
    "print(pt8)\n",
    "print(pt9)"
   ]
  },
  {
   "cell_type": "code",
   "execution_count": 108,
   "metadata": {},
   "outputs": [
    {
     "name": "stdout",
     "output_type": "stream",
     "text": [
      "[['memuaskan', 'v'], ['baik', 'a'], ['makin', 'adv'], ['sekali', 'n'], ['semoga', 'adv'], ['nyaman', 'a'], ['peningkatan', 'n'], ['kelas', 'n'], ['pertama', 'num'], ['pengalaman', 'n']]\n",
      "[['nyaman', 'a'], ['bersih', 'a'], ['ramah', 'a'], ['tempat', 'n'], ['banyak', 'a'], ['bagus', 'a'], ['bagus', 'a'], ['petugas', 'n'], ['ruangan', 'n'], ['menyenangkan', 'v']]\n",
      "[['banget', 'adv'], ['ramah', 'a'], ['puas', 'a'], ['rujukan', 'n'], ['tempat', 'n'], ['kesehatan', 'n'], ['fasilitas', 'n'], ['ramai', 'a'], ['bangunan', 'n'], ['nyaman', 'a']]\n",
      "[['baik', 'a'], ['megah', 'a'], ['dokter', 'n'], ['menunggu', 'v'], ['masyarakat', 'n'], ['cepat', 'a'], ['periksa', 'v'], ['fasilitas', 'n'], ['petugas', 'n'], ['menjadi', 'v']]\n"
     ]
    }
   ],
   "source": [
    "pos10 = pos['Topic:10'].values\n",
    "pt10 = pos_tag(pos10)\n",
    "pos11 = pos['Topic:11'].values\n",
    "pt11 = pos_tag(pos11)\n",
    "pos12 = pos['Topic:12'].values\n",
    "pt12 = pos_tag(pos12)\n",
    "pos13 = pos['Topic:13'].values\n",
    "pt13 = pos_tag(pos13)\n",
    "print(pt10)\n",
    "print(pt11)\n",
    "print(pt12)\n",
    "print(pt13)\n"
   ]
  },
  {
   "cell_type": "code",
   "execution_count": 109,
   "metadata": {},
   "outputs": [
    {
     "name": "stdout",
     "output_type": "stream",
     "text": [
      "[['baik', 'a'], ['dokter', 'n'], ['ramah', 'a'], ['fasilitas', 'n'], ['besar', 'a'], ['semua', 'num'], ['tempat', 'n'], ['bagus', 'a'], ['operasi', 'n'], ['perawat', 'n']]\n",
      "[['cepat', 'a'], ['makin', 'adv'], ['semoga', 'adv'], ['sedikit', 'a'], ['pasien', 'n'], ['tambah', 'n'], ['nyaman', 'a'], ['menangani', 'v'], ['pengunjung', 'n'], ['asuransi', 'n']]\n"
     ]
    }
   ],
   "source": [
    "pos14 = pos['Topic:14'].values\n",
    "pt14 = pos_tag(pos14)\n",
    "print(pt14)\n",
    "pos15 = pos['Topic:15'].values\n",
    "pt15 = pos_tag(pos15)\n",
    "print(pt15)"
   ]
  },
  {
   "cell_type": "code",
   "execution_count": 125,
   "metadata": {},
   "outputs": [],
   "source": [
    "neg = pd.read_excel('Tugas Akhir\\\\Topik negatif fix 2 v4.xlsx')"
   ]
  },
  {
   "cell_type": "code",
   "execution_count": 117,
   "metadata": {},
   "outputs": [
    {
     "name": "stdout",
     "output_type": "stream",
     "text": [
      "[['antre', 'v'], ['lama', 'a'], ['sudah', 'adv'], ['kalau', 'p'], ['sekali', 'n'], ['pendaftaran', 'n'], ['pasien', 'n'], ['banget', 'adv'], ['obat', 'n'], ['ada', 'v']]\n",
      "[['waktu', 'n'], ['padahal', 'p'], ['rumah_sakit', 'n'], ['mau', 'adv'], ['parkir', 'v'], ['administrasi', 'n'], ['harus', 'adv'], ['pelayanan', 'n'], ['banyak', 'a'], ['buruk', 'a']]\n"
     ]
    }
   ],
   "source": [
    "neg0 = neg['Topic:0'].values\n",
    "nt0 = pos_tag(neg0)\n",
    "neg1 = neg['Topic:1'].values\n",
    "nt1 = pos_tag(neg1)\n",
    "\n",
    "print(nt0)\n",
    "print(nt1)\n",
    "\n"
   ]
  },
  {
   "cell_type": "code",
   "execution_count": 121,
   "metadata": {
    "scrolled": true
   },
   "outputs": [
    {
     "name": "stdout",
     "output_type": "stream",
     "text": [
      "[['sedikit', 'a'], ['mahal', 'a'], ['menunggu', 'v'], ['benar', 'a'], ['pasien', 'n'], ['dokter', 'n'], ['keluarga', 'n'], ['parkir', 'v'], ['antrean', 'n'], ['terlalu', 'v']]\n",
      "[['obat', 'n'], ['pelayanan', 'n'], ['antrean', 'n'], ['banyak', 'a'], ['lama', 'a'], ['perawat', 'n'], ['antre', 'v'], ['dokter', 'n'], ['pasien', 'n'], ['hanya', 'adv']]\n",
      "[['dokter', 'n'], ['parkir', 'v'], ['pendaftaran', 'n'], ['obat', 'n'], ['hanya', 'adv'], ['pasien', 'n'], ['pelayanan', 'n'], ['parkir', 'v'], ['tempat', 'n'], ['sedikit', 'a']]\n"
     ]
    }
   ],
   "source": [
    "neg2 = neg['Topic:2'].values\n",
    "nt2 = pos_tag(neg2)\n",
    "neg3 = neg['Topic:3'].values\n",
    "nt3 = pos_tag(neg3)\n",
    "neg4 = neg['Topic:4'].values\n",
    "nt4 = pos_tag(neg4)\n",
    "print(nt2)\n",
    "print(nt3)\n",
    "print(nt4)"
   ]
  },
  {
   "cell_type": "code",
   "execution_count": 122,
   "metadata": {},
   "outputs": [
    {
     "name": "stdout",
     "output_type": "stream",
     "text": [
      "[['pelayanan', 'n'], ['parkir', 'v'], ['dokter', 'n'], ['rumah_sakit', 'n'], ['terutama', 'a'], ['masih', 'adv'], ['pasien', 'n'], ['perbaikan', 'n'], ['banget', 'adv'], ['motor', 'n']]\n",
      "[['bisa', 'v'], ['baik', 'a'], ['parkir', 'v'], ['langsung', 'adv'], ['tempat', 'n'], ['ramah', 'a'], ['antre', 'v'], ['masuk', 'v'], ['mungkin', 'adv'], ['antrean', 'n']]\n",
      "[['perawat', 'n'], ['mungkin', 'adv'], ['pasien', 'n'], ['pelayanan', 'n'], ['pakai', 'v'], ['menunggu', 'v'], ['dokter', 'n'], ['ruang', 'n'], ['rumah_sakit', 'n'], ['menit', 'n']]\n",
      "[['rumah_sakit', 'n'], ['antrean', 'n'], ['ribet', 'a'], ['petugas', 'n'], ['toilet', 'n'], ['parkir', 'v'], ['panjang', 'a'], ['sesuai', 'a'], ['sekali', 'n'], ['tanya', 'n']]\n"
     ]
    }
   ],
   "source": [
    "neg5 = neg['Topic:5'].values\n",
    "nt5 = pos_tag(neg5)\n",
    "neg6 = neg['Topic:6'].values\n",
    "nt6 = pos_tag(neg6)\n",
    "neg7 = neg['Topic:7'].values\n",
    "nt7 = pos_tag(neg7)\n",
    "neg8 = neg['Topic:8'].values\n",
    "nt8 = pos_tag(neg8)\n",
    "print(nt5)\n",
    "print(nt6)\n",
    "print(nt7)\n",
    "print(nt8)"
   ]
  },
  {
   "cell_type": "code",
   "execution_count": 123,
   "metadata": {},
   "outputs": [
    {
     "name": "stdout",
     "output_type": "stream",
     "text": [
      "[['seperti', 'p'], ['rumah_sakit', 'n'], ['pelayanan', 'n'], ['bisa', 'v'], ['suster', 'n'], ['antrean', 'n'], ['sakit', 'a'], ['nomor', 'n'], ['poliklinik', 'n'], ['mundur', 'v']]\n",
      "[['susah', 'a'], ['antrean', 'n'], ['sedikit', 'a'], ['parkir', 'v'], ['waktu', 'n'], ['pasien', 'n'], ['ada', 'v'], ['tempat', 'n'], ['bukan', 'adv'], ['nomor', 'n']]\n"
     ]
    }
   ],
   "source": [
    "neg9 = neg['Topic:9'].values\n",
    "nt9 = pos_tag(neg9)\n",
    "print(nt9)\n",
    "neg10 = neg['Topic:10'].values\n",
    "nt10 = pos_tag(neg10)\n",
    "print(nt10)"
   ]
  },
  {
   "cell_type": "code",
   "execution_count": 128,
   "metadata": {},
   "outputs": [
    {
     "name": "stdout",
     "output_type": "stream",
     "text": [
      "[['rumah_sakit', 'n'], ['cuma', 'adv'], ['antre', 'v'], ['perawat', 'n'], ['pelayanan', 'n'], ['penting', 'a'], ['dokter', 'n'], ['sudah', 'adv'], ['pasien', 'n'], ['harus', 'adv']]\n",
      "[['parkir', 'v'], ['ugd', 'n'], ['mahal', 'a'], ['pelayanan', 'n'], ['antrean', 'n'], ['ruangan', 'n'], ['tempat', 'n'], ['cuma', 'adv'], ['mati', 'v'], ['ruang', 'n']]\n",
      "[['mahal', 'a'], ['rumah_sakit', 'n'], ['pelayanan', 'n'], ['lama', 'a'], ['antrean', 'n'], ['parkir', 'v'], ['kecewa', 'a'], ['pasien', 'n'], ['sedikit', 'a'], ['terburuk', 'a']]\n",
      "[['rekomendasi', 'n'], ['dokter', 'n'], ['lama', 'a'], ['seperti', 'p'], ['tindakan', 'n'], ['sudah', 'adv'], ['profesional', 'a'], ['masih', 'adv'], ['pasien', 'n'], ['waktu', 'n']]\n"
     ]
    }
   ],
   "source": [
    "# neg9 = neg['Topic:9'].values\n",
    "# nt9 = pos_tag(neg9)\n",
    "# neg10 = neg['Topic:10'].values\n",
    "# nt10 = pos_tag(neg10)\n",
    "neg11 = neg['Topic:11'].values\n",
    "nt11 = pos_tag(neg11)\n",
    "neg12 = neg['Topic:12'].values\n",
    "nt12 = pos_tag(neg12)\n",
    "neg13 = neg['Topic:13'].values\n",
    "nt13 = pos_tag(neg13)\n",
    "neg14 = neg['Topic:14'].values\n",
    "nt14 = pos_tag(neg14)\n",
    "print(nt11)\n",
    "print(nt12)\n",
    "print(nt13)\n",
    "print(nt14)\n",
    "\n"
   ]
  },
  {
   "cell_type": "code",
   "execution_count": 8,
   "metadata": {},
   "outputs": [],
   "source": [
    "pt0 = [['berkualitas', 'v'], ['tempat', 'n'], ['parkir', 'v'], ['luas', 'a'], ['murah', 'a'], ['bersih', 'a'], ['nyaman', 'a'], ['sistem', 'n'], ['pegawai', 'n'], ['taman', 'n']]\n",
    "pt1 = [['lengkap', 'a'], ['fasilitas', 'n'], ['bagus', 'a'], ['standar', 'n'], ['pelayan', 'n'], ['sudah', 'adv'], ['lokasi', 'n'], ['ramah', 'a'], ['secara', 'p'], ['keseluruhan', 'n']]\n",
    "pt2 = [['sangat_profesional', 'a'], ['petugas', 'n'], ['selalu', 'adv'], ['sampai', 'v'], ['ramah', 'a'], ['jauh', 'a'], ['baik', 'a'], ['swasta', 'a'], ['beri', 'v'], ['sudah', 'adv']]\n",
    "pt3 = [['tempat', 'n'], ['nyaman', 'a'], ['fasilitas', 'n'], ['kualitas', 'n'], ['modern', 'a'], ['lengkap', 'a'], ['masih', 'adv'], ['merasa', 'v'], ['indah', 'a'], ['rawat_inap', 'n']]\n",
    "pt4 = [['prima', 'a'], ['unggul', 'a'], ['pusat', 'n'], ['perawat', 'n'], ['ramah', 'a'], ['petugas', 'n'], ['luas', 'a'], ['besar', 'a'], ['memuaskan', 'v'], ['dokter', 'n']]\n",
    "pt5 = [['bagus', 'a'], ['dokter', 'n'], ['harga', 'n'], ['nyaman', 'a'], ['baik', 'a'], ['seperti', 'p'], ['makanan', 'n'], ['ramah', 'a'], ['perawat', 'n'], ['tempat', 'n']]\n",
    "pt6 = [['nyaman', 'a'], ['standar', 'n'], ['atas', 'n'], ['interior', 'n'], ['penanganan', 'n'], ['bersih', 'a'], ['bagus', 'a'], ['banget', 'adv'], ['sudah', 'adv'], ['parkir', 'v']]\n",
    "pt7 = [['enak', 'a'], ['nyaman', 'a'], ['ruang', 'n'], ['besar', 'a'], ['tunggu', 'v'], ['ramah', 'a'], ['sebagai', 'p'], ['maju', 'v'], ['bersih', 'a'], ['pelayan', 'n']]\n",
    "pt8 = [['mewah', 'a'], ['sangat_membantu', 'v'], ['ruang', 'n'], ['secara', 'p'], ['sleman', 'n'], ['bisa', 'v'], ['makanan', 'n'], ['walaupun', 'p'], ['internasional', 'a'], ['memuaskan', 'v']]\n",
    "pt9 = [['bagus', 'a'], ['dokter', 'n'], ['perawat', 'n'], ['ramah', 'a'], ['mumpuni', 'a'], ['cekatan', 'a'], ['senyum', 'n'], ['interior', 'n'], ['lengkap', 'a'], ['tempat', 'n']]\n",
    "pt10 = [['memuaskan', 'v'], ['baik', 'a'], ['makin', 'adv'], ['sekali', 'n'], ['semoga', 'adv'], ['nyaman', 'a'], ['peningkatan', 'n'], ['kelas', 'n'], ['pertama', 'num'], ['pengalaman', 'n']]\n",
    "pt11 = [['nyaman', 'a'], ['bersih', 'a'], ['ramah', 'a'], ['tempat', 'n'], ['banyak', 'a'], ['bagus', 'a'], ['cukup_bagus', 'a'], ['petugas', 'n'], ['ruangan', 'n'], ['menyenangkan', 'v']]\n",
    "pt12 = [['banget', 'adv'], ['ramah', 'a'], ['puas', 'a'], ['rujukan', 'n'], ['tempat', 'n'], ['kesehatan', 'n'], ['fasilitas', 'n'], ['ramai', 'a'], ['bangunan', 'n'], ['nyaman', 'a']]\n",
    "pt13 = [['sangat_baik', 'a'], ['megah', 'a'], ['dokter', 'n'], ['menunggu', 'v'], ['masyarakat', 'n'], ['cepat', 'a'], ['periksa', 'v'], ['fasilitas', 'n'], ['petugas', 'n'], ['menjadi', 'v']]\n",
    "pt14 = [['baik', 'a'], ['dokter', 'n'], ['ramah', 'a'], ['fasilitas', 'n'], ['besar', 'a'], ['semua', 'num'], ['tempat', 'n'], ['bagus', 'a'], ['operasi', 'n'], ['perawat', 'n']]\n",
    "pt15 = [['cepat', 'a'], ['makin', 'adv'], ['semoga', 'adv'], ['sedikit', 'a'], ['pasien', 'n'], ['tambah', 'n'], ['nyaman', 'a'], ['menangani', 'v'], ['pengunjung', 'n'], ['bpjs', 'n']]\n",
    "\n",
    "nt0 = [['antre', 'v'], ['lama', 'a'], ['sudah', 'adv'], ['kalau', 'p'], ['sekali', 'n'], ['pendaftaran', 'n'], ['pasien', 'n'], ['banget', 'adv'], ['obat', 'n'], ['tidak_ada', 'v']]\n",
    "nt1 = [['waktu', 'n'], ['padahal', 'p'], ['rumah_sakit', 'n'], ['mau', 'adv'], ['parkir', 'v'], ['administrasi', 'n'], ['harus', 'adv'], ['pelayanan', 'n'], ['banyak', 'a'], ['buruk', 'a']]\n",
    "nt2 = [['sedikit', 'a'], ['mahal', 'a'], ['menunggu', 'v'], ['benar', 'a'], ['pasien', 'n'], ['dokter', 'n'], ['keluarga', 'n'], ['parkir', 'v'], ['antrean', 'n'], ['terlalu', 'v']]\n",
    "nt3 = [['obat', 'n'], ['pelayanan', 'n'], ['antrean', 'n'], ['banyak', 'a'], ['lama', 'a'], ['perawat', 'n'], ['antre', 'v'], ['dokter', 'n'], ['pasien', 'n'], ['hanya', 'adv']]\n",
    "nt4 = [['dokter', 'n'], ['parkir', 'v'], ['pendaftaran', 'n'], ['obat', 'n'], ['hanya', 'adv'], ['pasien', 'n'], ['pelayanan', 'n'], ['parkiran', 'n'], ['tempat', 'n'], ['sedikit', 'a']]\n",
    "nt5 = [['pelayanan', 'n'], ['parkir', 'v'], ['dokter', 'n'], ['rumah_sakit', 'n'], ['terutama', 'adv'], ['masih', 'adv'], ['pasien', 'n'], ['perbaikan', 'n'], ['banget', 'adv'], ['motor', 'n']]\n",
    "nt6 = [['bisa', 'v'], ['kurang_baik', 'a'], ['parkir', 'v'], ['langsung', 'adv'], ['tempat', 'n'], ['kurang_ramah', 'a'], ['antre', 'v'], ['masuk', 'v'], ['mungkin', 'adv'], ['antrean', 'n']]\n",
    "nt7 = [['perawat', 'n'], ['mungkin', 'adv'], ['pasien', 'n'], ['pelayanan', 'n'], ['pakai', 'v'], ['menunggu', 'v'], ['dokter', 'n'], ['ruang', 'n'], ['rumah_sakit', 'n'], ['menit', 'n']]\n",
    "nt8 = [['rumah_sakit', 'n'], ['antrean', 'n'], ['ribet', 'a'], ['petugas', 'n'], ['toilet', 'n'], ['parkir', 'v'], ['panjang', 'a'], ['sesuai', 'a'], ['sekali', 'n'], ['tanya', 'n']]\n",
    "nt9 = [['seperti', 'p'], ['rumah_sakit', 'n'], ['pelayanan', 'n'], ['bisa', 'v'], ['suster', 'n'], ['antrean', 'n'], ['sakit', 'a'], ['nomor', 'n'], ['poliklinik', 'n'], ['mundur', 'v']]\n",
    "nt10 = [['susah', 'a'], ['antrean', 'n'], ['sedikit', 'a'], ['parkir', 'v'], ['waktu', 'n'], ['pasien', 'n'], ['ada', 'v'], ['tempat', 'n'], ['bukan', 'adv'], ['nomor', 'n']]\n",
    "nt11 = [['rumah_sakit', 'n'], ['cuma', 'adv'], ['antre', 'v'], ['perawat', 'n'], ['pelayanan', 'n'], ['penting', 'a'], ['dokter', 'n'], ['sudah', 'adv'], ['pasien', 'n'], ['harus', 'adv']]\n",
    "nt12 = [['parkir', 'v'], ['ugd', 'n'], ['mahal', 'a'], ['pelayanan', 'n'], ['antrean', 'n'], ['ruangan', 'n'], ['tempat', 'n'], ['cuma', 'adv'], ['mati', 'v'], ['ruang', 'n']]\n",
    "nt13 = [['mahal', 'a'], ['rumah_sakit', 'n'], ['pelayanan', 'n'], ['lama', 'a'], ['antrean', 'n'], ['parkir', 'v'], ['kecewa', 'a'], ['pasien', 'n'], ['sedikit', 'a'], ['terburuk', 'a']]\n",
    "nt14 = [['tidak_rekomendasi', 'a'], ['dokter', 'n'], ['lama', 'a'], ['seperti', 'p'], ['tindakan', 'n'], ['sudah', 'adv'], ['profesional', 'a'], ['masih', 'adv'], ['pasien', 'n'], ['waktu', 'n']]\n",
    "\n",
    "def noun(teks) :\n",
    "    dictionary = []\n",
    "    x = 0\n",
    "    y = 0\n",
    "\n",
    "    for x in range(len(teks)):\n",
    "        if teks[x][y+1] == 'n' :\n",
    "            dictionary.append(teks[x][y])\n",
    "\n",
    "    return dictionary\n",
    "\n",
    "def adj(teks) :\n",
    "    dictionary = []\n",
    "    x = 0\n",
    "    y = 0\n",
    "\n",
    "    for x in range(len(teks)):\n",
    "        if teks[x][y+1] == 'a' :\n",
    "            dictionary.append(teks[x][y])\n",
    "\n",
    "    return dictionary\n",
    "\n",
    "np0 = noun(pt0)\n",
    "ap0 = adj(pt0)\n",
    "np1 = noun(pt1)\n",
    "ap1 = adj(pt1)\n",
    "np2 = noun(pt2)\n",
    "ap2 = adj(pt2)\n",
    "np3 = noun(pt3)\n",
    "ap3 = adj(pt3)\n",
    "np4 = noun(pt4)\n",
    "ap4 = adj(pt4)\n",
    "np5 = noun(pt5)\n",
    "ap5 = adj(pt5)\n",
    "np6 = noun(pt6)\n",
    "ap6 = adj(pt6)\n",
    "np7 = noun(pt7)\n",
    "ap7 = adj(pt7)\n",
    "np8 = noun(pt8)\n",
    "ap8 = adj(pt8)\n",
    "np9 = noun(pt9)\n",
    "ap9 = adj(pt9)\n",
    "np10 = noun(pt10)\n",
    "ap10 = adj(pt10)\n",
    "np11 = noun(pt11)\n",
    "ap11 = adj(pt11)\n",
    "np12 = noun(pt12)\n",
    "ap12 = adj(pt12)\n",
    "np13 = noun(pt13)\n",
    "ap13 = adj(pt13)\n",
    "np14 = noun(pt14)\n",
    "ap14 = adj(pt14)\n",
    "np15 = noun(pt15)\n",
    "ap15 = adj(pt15)\n",
    "\n",
    "nn0 = noun(nt0)\n",
    "an0 = adj(nt0)\n",
    "nn1 = noun(nt1)\n",
    "an1 = adj(nt1)\n",
    "nn2 = noun(nt2)\n",
    "an2 = adj(nt2)\n",
    "nn3 = noun(nt3)\n",
    "an3 = adj(nt3)\n",
    "nn4 = noun(nt4)\n",
    "an4 = adj(nt4)\n",
    "nn5 = noun(nt5)\n",
    "an5 = adj(nt5)\n",
    "nn6 = noun(nt6)\n",
    "an6 = adj(nt6)\n",
    "nn7 = noun(nt7)\n",
    "an7 = adj(nt7)\n",
    "nn8 = noun(nt8)\n",
    "an8 = adj(nt8)\n",
    "nn9 = noun(nt9)\n",
    "an9 = adj(nt9)\n",
    "nn10 = noun(nt10)\n",
    "an10 = adj(nt10)\n",
    "nn11 = noun(nt11)\n",
    "an11 = adj(nt11)\n",
    "nn12 = noun(nt12)\n",
    "an12 = adj(nt12)\n",
    "nn13 = noun(nt13)\n",
    "an13 = adj(nt13)\n",
    "nn14 = noun(nt14)\n",
    "an14 = adj(nt14)"
   ]
  },
  {
   "cell_type": "code",
   "execution_count": 9,
   "metadata": {},
   "outputs": [
    {
     "name": "stdout",
     "output_type": "stream",
     "text": [
      "[['luas', 'murah', 'bersih', 'nyaman'], ['lengkap', 'bagus', 'ramah'], ['sangat_profesional', 'ramah', 'jauh', 'baik', 'swasta'], ['nyaman', 'modern', 'lengkap', 'indah'], ['prima', 'unggul', 'ramah', 'luas', 'besar'], ['bagus', 'nyaman', 'baik', 'ramah'], ['nyaman', 'bersih', 'bagus'], ['enak', 'nyaman', 'besar', 'ramah', 'bersih'], ['mewah', 'internasional'], ['bagus', 'ramah', 'mumpuni', 'cekatan', 'lengkap'], ['baik', 'nyaman'], ['nyaman', 'bersih', 'ramah', 'banyak', 'bagus', 'cukup_bagus'], ['ramah', 'puas', 'ramai', 'nyaman'], ['sangat_baik', 'megah', 'cepat'], ['baik', 'ramah', 'besar', 'bagus'], ['cepat', 'sedikit', 'nyaman']]\n"
     ]
    }
   ],
   "source": [
    "adjectivep = []\n",
    "adjectivep.append(ap0)\n",
    "adjectivep.append(ap1)\n",
    "adjectivep.append(ap2)\n",
    "adjectivep.append(ap3)\n",
    "adjectivep.append(ap4)\n",
    "adjectivep.append(ap5)\n",
    "adjectivep.append(ap6)\n",
    "adjectivep.append(ap7)\n",
    "adjectivep.append(ap8)\n",
    "adjectivep.append(ap9)\n",
    "adjectivep.append(ap10)\n",
    "adjectivep.append(ap11)\n",
    "adjectivep.append(ap12)\n",
    "adjectivep.append(ap13)\n",
    "adjectivep.append(ap14)\n",
    "adjectivep.append(ap15)\n",
    "\n",
    "print(adjectivep)"
   ]
  },
  {
   "cell_type": "code",
   "execution_count": 10,
   "metadata": {},
   "outputs": [
    {
     "name": "stdout",
     "output_type": "stream",
     "text": [
      "[['lama'], ['banyak', 'buruk'], ['sedikit', 'mahal', 'benar'], ['banyak', 'lama'], ['sedikit'], [], ['kurang_baik', 'kurang_ramah'], [], ['ribet', 'panjang', 'sesuai'], ['sakit'], ['susah', 'sedikit'], ['penting'], ['mahal'], ['mahal', 'lama', 'kecewa', 'sedikit', 'terburuk'], ['tidak_rekomendasi', 'lama', 'profesional']]\n"
     ]
    }
   ],
   "source": [
    "adjectiven = []\n",
    "adjectiven.append(an0)\n",
    "adjectiven.append(an1)\n",
    "adjectiven.append(an2)\n",
    "adjectiven.append(an3)\n",
    "adjectiven.append(an4)\n",
    "adjectiven.append(an5)\n",
    "adjectiven.append(an6)\n",
    "adjectiven.append(an7)\n",
    "adjectiven.append(an8)\n",
    "adjectiven.append(an9)\n",
    "adjectiven.append(an10)\n",
    "adjectiven.append(an11)\n",
    "adjectiven.append(an12)\n",
    "adjectiven.append(an13)\n",
    "adjectiven.append(an14)\n",
    "print(adjectiven)"
   ]
  },
  {
   "cell_type": "code",
   "execution_count": 11,
   "metadata": {},
   "outputs": [
    {
     "name": "stdout",
     "output_type": "stream",
     "text": [
      "[['tempat', 'sistem', 'pegawai', 'taman'], ['fasilitas', 'standar', 'pelayan', 'lokasi', 'keseluruhan'], ['petugas'], ['tempat', 'fasilitas', 'kualitas', 'rawat_inap'], ['pusat', 'perawat', 'petugas', 'dokter'], ['dokter', 'harga', 'makanan', 'perawat', 'tempat'], ['standar', 'atas', 'interior', 'penanganan'], ['ruang', 'pelayan'], ['ruang', 'sleman', 'makanan'], ['dokter', 'perawat', 'senyum', 'interior', 'tempat'], ['sekali', 'peningkatan', 'kelas', 'pengalaman'], ['tempat', 'petugas', 'ruangan'], ['rujukan', 'tempat', 'kesehatan', 'fasilitas', 'bangunan'], ['dokter', 'masyarakat', 'fasilitas', 'petugas'], ['dokter', 'fasilitas', 'tempat', 'operasi', 'perawat'], ['pasien', 'tambah', 'pengunjung', 'bpjs']]\n"
     ]
    }
   ],
   "source": [
    "nounp = []\n",
    "nounp.append(np0)\n",
    "nounp.append(np1)\n",
    "nounp.append(np2)\n",
    "nounp.append(np3)\n",
    "nounp.append(np4)\n",
    "nounp.append(np5)\n",
    "nounp.append(np6)\n",
    "nounp.append(np7)\n",
    "nounp.append(np8)\n",
    "nounp.append(np9)\n",
    "nounp.append(np10)\n",
    "nounp.append(np11)\n",
    "nounp.append(np12)\n",
    "nounp.append(np13)\n",
    "nounp.append(np14)\n",
    "nounp.append(np15)\n",
    "print(nounp)"
   ]
  },
  {
   "cell_type": "code",
   "execution_count": 12,
   "metadata": {},
   "outputs": [
    {
     "name": "stdout",
     "output_type": "stream",
     "text": [
      "[['sekali', 'pendaftaran', 'pasien', 'obat'], ['waktu', 'rumah_sakit', 'administrasi', 'pelayanan'], ['pasien', 'dokter', 'keluarga', 'antrean'], ['obat', 'pelayanan', 'antrean', 'perawat', 'dokter', 'pasien'], ['dokter', 'pendaftaran', 'obat', 'pasien', 'pelayanan', 'parkiran', 'tempat'], ['pelayanan', 'dokter', 'rumah_sakit', 'pasien', 'perbaikan', 'motor'], ['tempat', 'antrean'], ['perawat', 'pasien', 'pelayanan', 'dokter', 'ruang', 'rumah_sakit', 'menit'], ['rumah_sakit', 'antrean', 'petugas', 'toilet', 'sekali', 'tanya'], ['rumah_sakit', 'pelayanan', 'suster', 'antrean', 'nomor', 'poliklinik'], ['antrean', 'waktu', 'pasien', 'tempat', 'nomor'], ['rumah_sakit', 'perawat', 'pelayanan', 'dokter', 'pasien'], ['ugd', 'pelayanan', 'antrean', 'ruangan', 'tempat', 'ruang'], ['rumah_sakit', 'pelayanan', 'antrean', 'pasien'], ['dokter', 'tindakan', 'pasien', 'waktu']]\n"
     ]
    }
   ],
   "source": [
    "nounn = []\n",
    "nounn.append(nn0)\n",
    "nounn.append(nn1)\n",
    "nounn.append(nn2)\n",
    "nounn.append(nn3)\n",
    "nounn.append(nn4)\n",
    "nounn.append(nn5)\n",
    "nounn.append(nn6)\n",
    "nounn.append(nn7)\n",
    "nounn.append(nn8)\n",
    "nounn.append(nn9)\n",
    "nounn.append(nn10)\n",
    "nounn.append(nn11)\n",
    "nounn.append(nn12)\n",
    "nounn.append(nn13)\n",
    "nounn.append(nn14)\n",
    "print(nounn)"
   ]
  },
  {
   "cell_type": "code",
   "execution_count": 13,
   "metadata": {},
   "outputs": [],
   "source": [
    "\n",
    "def build_phrase(np,ap):\n",
    "    frasa = []\n",
    "\n",
    "    x = 0\n",
    "    y = 0\n",
    "    for x in range(len(np)) :\n",
    "        for y in range(len(ap)):            \n",
    "            frs = []\n",
    "            frs.append(np[x])\n",
    "            frs.append(ap[y])      \n",
    "            frasa.append(frs)\n",
    "\n",
    "    return frasa\n",
    "\n",
    "fp0 = build_phrase(np0,ap0)\n",
    "fp1 = build_phrase(np1,ap1)\n",
    "fp2 = build_phrase(np2,ap2)\n",
    "fp3 = build_phrase(np3,ap3)\n",
    "fp4 = build_phrase(np4,ap4)\n",
    "fp5 = build_phrase(np5,ap5)\n",
    "fp6 = build_phrase(np6,ap6)\n",
    "fp7 = build_phrase(np7,ap7)\n",
    "fp8 = build_phrase(np8,ap8)\n",
    "fp9 = build_phrase(np9,ap9)\n",
    "fp10 = build_phrase(np10,ap10)\n",
    "fp11 = build_phrase(np11,ap11)\n",
    "fp12 = build_phrase(np12,ap12)\n",
    "fp13 = build_phrase(np13,ap13)\n",
    "fp14 = build_phrase(np14,ap14)\n",
    "fp15 = build_phrase(np15,ap15)\n",
    "\n",
    "fn0 = build_phrase(nn0,an0)\n",
    "fn1 = build_phrase(nn1,an1)\n",
    "fn2 = build_phrase(nn2,an2)\n",
    "fn3 = build_phrase(nn3,an3)\n",
    "fn4 = build_phrase(nn4,an4)\n",
    "fn5 = build_phrase(nn5,an5)\n",
    "fn6 = build_phrase(nn6,an6)\n",
    "fn7 = build_phrase(nn7,an7)\n",
    "fn8 = build_phrase(nn8,an8)\n",
    "fn9 = build_phrase(nn9,an9)\n",
    "fn10 = build_phrase(nn10,an10)\n",
    "fn11 = build_phrase(nn11,an11)\n",
    "fn12 = build_phrase(nn12,an12)\n",
    "fn13 = build_phrase(nn13,an13)\n",
    "fn14 = build_phrase(nn14,an14)\n",
    "\n"
   ]
  },
  {
   "cell_type": "code",
   "execution_count": 14,
   "metadata": {},
   "outputs": [
    {
     "name": "stdout",
     "output_type": "stream",
     "text": [
      "[['tempat', 'luas'], ['tempat', 'murah'], ['tempat', 'bersih'], ['tempat', 'nyaman'], ['sistem', 'luas'], ['sistem', 'murah'], ['sistem', 'bersih'], ['sistem', 'nyaman'], ['pegawai', 'luas'], ['pegawai', 'murah'], ['pegawai', 'bersih'], ['pegawai', 'nyaman'], ['taman', 'luas'], ['taman', 'murah'], ['taman', 'bersih'], ['taman', 'nyaman'], [['fasilitas', 'lengkap'], ['fasilitas', 'bagus'], ['fasilitas', 'ramah'], ['standar', 'lengkap'], ['standar', 'bagus'], ['standar', 'ramah'], ['pelayan', 'lengkap'], ['pelayan', 'bagus'], ['pelayan', 'ramah'], ['lokasi', 'lengkap'], ['lokasi', 'bagus'], ['lokasi', 'ramah'], ['keseluruhan', 'lengkap'], ['keseluruhan', 'bagus'], ['keseluruhan', 'ramah']], [['petugas', 'sangat_profesional'], ['petugas', 'ramah'], ['petugas', 'jauh'], ['petugas', 'baik'], ['petugas', 'swasta']], [['tempat', 'nyaman'], ['tempat', 'modern'], ['tempat', 'lengkap'], ['tempat', 'indah'], ['fasilitas', 'nyaman'], ['fasilitas', 'modern'], ['fasilitas', 'lengkap'], ['fasilitas', 'indah'], ['kualitas', 'nyaman'], ['kualitas', 'modern'], ['kualitas', 'lengkap'], ['kualitas', 'indah'], ['rawat_inap', 'nyaman'], ['rawat_inap', 'modern'], ['rawat_inap', 'lengkap'], ['rawat_inap', 'indah']], [['pusat', 'prima'], ['pusat', 'unggul'], ['pusat', 'ramah'], ['pusat', 'luas'], ['pusat', 'besar'], ['perawat', 'prima'], ['perawat', 'unggul'], ['perawat', 'ramah'], ['perawat', 'luas'], ['perawat', 'besar'], ['petugas', 'prima'], ['petugas', 'unggul'], ['petugas', 'ramah'], ['petugas', 'luas'], ['petugas', 'besar'], ['dokter', 'prima'], ['dokter', 'unggul'], ['dokter', 'ramah'], ['dokter', 'luas'], ['dokter', 'besar']], [['dokter', 'bagus'], ['dokter', 'nyaman'], ['dokter', 'baik'], ['dokter', 'ramah'], ['harga', 'bagus'], ['harga', 'nyaman'], ['harga', 'baik'], ['harga', 'ramah'], ['makanan', 'bagus'], ['makanan', 'nyaman'], ['makanan', 'baik'], ['makanan', 'ramah'], ['perawat', 'bagus'], ['perawat', 'nyaman'], ['perawat', 'baik'], ['perawat', 'ramah'], ['tempat', 'bagus'], ['tempat', 'nyaman'], ['tempat', 'baik'], ['tempat', 'ramah']], [['standar', 'nyaman'], ['standar', 'bersih'], ['standar', 'bagus'], ['atas', 'nyaman'], ['atas', 'bersih'], ['atas', 'bagus'], ['interior', 'nyaman'], ['interior', 'bersih'], ['interior', 'bagus'], ['penanganan', 'nyaman'], ['penanganan', 'bersih'], ['penanganan', 'bagus']], [['ruang', 'enak'], ['ruang', 'nyaman'], ['ruang', 'besar'], ['ruang', 'ramah'], ['ruang', 'bersih'], ['pelayan', 'enak'], ['pelayan', 'nyaman'], ['pelayan', 'besar'], ['pelayan', 'ramah'], ['pelayan', 'bersih']], [['ruang', 'mewah'], ['ruang', 'internasional'], ['sleman', 'mewah'], ['sleman', 'internasional'], ['makanan', 'mewah'], ['makanan', 'internasional']], [['dokter', 'bagus'], ['dokter', 'ramah'], ['dokter', 'mumpuni'], ['dokter', 'cekatan'], ['dokter', 'lengkap'], ['perawat', 'bagus'], ['perawat', 'ramah'], ['perawat', 'mumpuni'], ['perawat', 'cekatan'], ['perawat', 'lengkap'], ['senyum', 'bagus'], ['senyum', 'ramah'], ['senyum', 'mumpuni'], ['senyum', 'cekatan'], ['senyum', 'lengkap'], ['interior', 'bagus'], ['interior', 'ramah'], ['interior', 'mumpuni'], ['interior', 'cekatan'], ['interior', 'lengkap'], ['tempat', 'bagus'], ['tempat', 'ramah'], ['tempat', 'mumpuni'], ['tempat', 'cekatan'], ['tempat', 'lengkap']], [['sekali', 'baik'], ['sekali', 'nyaman'], ['peningkatan', 'baik'], ['peningkatan', 'nyaman'], ['kelas', 'baik'], ['kelas', 'nyaman'], ['pengalaman', 'baik'], ['pengalaman', 'nyaman']], [['tempat', 'nyaman'], ['tempat', 'bersih'], ['tempat', 'ramah'], ['tempat', 'banyak'], ['tempat', 'bagus'], ['tempat', 'cukup_bagus'], ['petugas', 'nyaman'], ['petugas', 'bersih'], ['petugas', 'ramah'], ['petugas', 'banyak'], ['petugas', 'bagus'], ['petugas', 'cukup_bagus'], ['ruangan', 'nyaman'], ['ruangan', 'bersih'], ['ruangan', 'ramah'], ['ruangan', 'banyak'], ['ruangan', 'bagus'], ['ruangan', 'cukup_bagus']], [['rujukan', 'ramah'], ['rujukan', 'puas'], ['rujukan', 'ramai'], ['rujukan', 'nyaman'], ['tempat', 'ramah'], ['tempat', 'puas'], ['tempat', 'ramai'], ['tempat', 'nyaman'], ['kesehatan', 'ramah'], ['kesehatan', 'puas'], ['kesehatan', 'ramai'], ['kesehatan', 'nyaman'], ['fasilitas', 'ramah'], ['fasilitas', 'puas'], ['fasilitas', 'ramai'], ['fasilitas', 'nyaman'], ['bangunan', 'ramah'], ['bangunan', 'puas'], ['bangunan', 'ramai'], ['bangunan', 'nyaman']], [['dokter', 'sangat_baik'], ['dokter', 'megah'], ['dokter', 'cepat'], ['masyarakat', 'sangat_baik'], ['masyarakat', 'megah'], ['masyarakat', 'cepat'], ['fasilitas', 'sangat_baik'], ['fasilitas', 'megah'], ['fasilitas', 'cepat'], ['petugas', 'sangat_baik'], ['petugas', 'megah'], ['petugas', 'cepat']], [['dokter', 'baik'], ['dokter', 'ramah'], ['dokter', 'besar'], ['dokter', 'bagus'], ['fasilitas', 'baik'], ['fasilitas', 'ramah'], ['fasilitas', 'besar'], ['fasilitas', 'bagus'], ['tempat', 'baik'], ['tempat', 'ramah'], ['tempat', 'besar'], ['tempat', 'bagus'], ['operasi', 'baik'], ['operasi', 'ramah'], ['operasi', 'besar'], ['operasi', 'bagus'], ['perawat', 'baik'], ['perawat', 'ramah'], ['perawat', 'besar'], ['perawat', 'bagus']], [['pasien', 'cepat'], ['pasien', 'sedikit'], ['pasien', 'nyaman'], ['tambah', 'cepat'], ['tambah', 'sedikit'], ['tambah', 'nyaman'], ['pengunjung', 'cepat'], ['pengunjung', 'sedikit'], ['pengunjung', 'nyaman'], ['bpjs', 'cepat'], ['bpjs', 'sedikit'], ['bpjs', 'nyaman']]]\n"
     ]
    }
   ],
   "source": [
    "fp0.append(fp1)\n",
    "fp0.append(fp2)\n",
    "fp0.append(fp3)\n",
    "fp0.append(fp4)\n",
    "fp0.append(fp5)\n",
    "fp0.append(fp6)\n",
    "fp0.append(fp7)\n",
    "fp0.append(fp8)\n",
    "fp0.append(fp9)\n",
    "fp0.append(fp10)\n",
    "fp0.append(fp11)\n",
    "fp0.append(fp12)\n",
    "fp0.append(fp13)\n",
    "fp0.append(fp14)\n",
    "fp0.append(fp15)\n",
    "\n",
    "print(fp0)"
   ]
  },
  {
   "cell_type": "code",
   "execution_count": 15,
   "metadata": {},
   "outputs": [
    {
     "name": "stdout",
     "output_type": "stream",
     "text": [
      "[['sekali', 'lama'], ['pendaftaran', 'lama'], ['pasien', 'lama'], ['obat', 'lama'], [['waktu', 'banyak'], ['waktu', 'buruk'], ['rumah_sakit', 'banyak'], ['rumah_sakit', 'buruk'], ['administrasi', 'banyak'], ['administrasi', 'buruk'], ['pelayanan', 'banyak'], ['pelayanan', 'buruk']], [['pasien', 'sedikit'], ['pasien', 'mahal'], ['pasien', 'benar'], ['dokter', 'sedikit'], ['dokter', 'mahal'], ['dokter', 'benar'], ['keluarga', 'sedikit'], ['keluarga', 'mahal'], ['keluarga', 'benar'], ['antrean', 'sedikit'], ['antrean', 'mahal'], ['antrean', 'benar']], [['obat', 'banyak'], ['obat', 'lama'], ['pelayanan', 'banyak'], ['pelayanan', 'lama'], ['antrean', 'banyak'], ['antrean', 'lama'], ['perawat', 'banyak'], ['perawat', 'lama'], ['dokter', 'banyak'], ['dokter', 'lama'], ['pasien', 'banyak'], ['pasien', 'lama']], [['dokter', 'sedikit'], ['pendaftaran', 'sedikit'], ['obat', 'sedikit'], ['pasien', 'sedikit'], ['pelayanan', 'sedikit'], ['parkiran', 'sedikit'], ['tempat', 'sedikit']], [], [['tempat', 'kurang_baik'], ['tempat', 'kurang_ramah'], ['antrean', 'kurang_baik'], ['antrean', 'kurang_ramah']], [], [['rumah_sakit', 'ribet'], ['rumah_sakit', 'panjang'], ['rumah_sakit', 'sesuai'], ['antrean', 'ribet'], ['antrean', 'panjang'], ['antrean', 'sesuai'], ['petugas', 'ribet'], ['petugas', 'panjang'], ['petugas', 'sesuai'], ['toilet', 'ribet'], ['toilet', 'panjang'], ['toilet', 'sesuai'], ['sekali', 'ribet'], ['sekali', 'panjang'], ['sekali', 'sesuai'], ['tanya', 'ribet'], ['tanya', 'panjang'], ['tanya', 'sesuai']], [['rumah_sakit', 'sakit'], ['pelayanan', 'sakit'], ['suster', 'sakit'], ['antrean', 'sakit'], ['nomor', 'sakit'], ['poliklinik', 'sakit']], [['antrean', 'susah'], ['antrean', 'sedikit'], ['waktu', 'susah'], ['waktu', 'sedikit'], ['pasien', 'susah'], ['pasien', 'sedikit'], ['tempat', 'susah'], ['tempat', 'sedikit'], ['nomor', 'susah'], ['nomor', 'sedikit']], [['rumah_sakit', 'penting'], ['perawat', 'penting'], ['pelayanan', 'penting'], ['dokter', 'penting'], ['pasien', 'penting']], [['ugd', 'mahal'], ['pelayanan', 'mahal'], ['antrean', 'mahal'], ['ruangan', 'mahal'], ['tempat', 'mahal'], ['ruang', 'mahal']], [['rumah_sakit', 'mahal'], ['rumah_sakit', 'lama'], ['rumah_sakit', 'kecewa'], ['rumah_sakit', 'sedikit'], ['rumah_sakit', 'terburuk'], ['pelayanan', 'mahal'], ['pelayanan', 'lama'], ['pelayanan', 'kecewa'], ['pelayanan', 'sedikit'], ['pelayanan', 'terburuk'], ['antrean', 'mahal'], ['antrean', 'lama'], ['antrean', 'kecewa'], ['antrean', 'sedikit'], ['antrean', 'terburuk'], ['pasien', 'mahal'], ['pasien', 'lama'], ['pasien', 'kecewa'], ['pasien', 'sedikit'], ['pasien', 'terburuk']], [['dokter', 'tidak_rekomendasi'], ['dokter', 'lama'], ['dokter', 'profesional'], ['tindakan', 'tidak_rekomendasi'], ['tindakan', 'lama'], ['tindakan', 'profesional'], ['pasien', 'tidak_rekomendasi'], ['pasien', 'lama'], ['pasien', 'profesional'], ['waktu', 'tidak_rekomendasi'], ['waktu', 'lama'], ['waktu', 'profesional']]]\n"
     ]
    }
   ],
   "source": [
    "fn0.append(fn1)\n",
    "fn0.append(fn2)\n",
    "fn0.append(fn3)\n",
    "fn0.append(fn4)\n",
    "fn0.append(fn5)\n",
    "fn0.append(fn6)\n",
    "fn0.append(fn7)\n",
    "fn0.append(fn8)\n",
    "fn0.append(fn9)\n",
    "fn0.append(fn10)\n",
    "fn0.append(fn11)\n",
    "fn0.append(fn12)\n",
    "fn0.append(fn13)\n",
    "fn0.append(fn14)\n",
    "print(fn0)"
   ]
  },
  {
   "cell_type": "code",
   "execution_count": 16,
   "metadata": {},
   "outputs": [],
   "source": [
    "noun = ['tempat', 'sistem', 'pegawai', 'taman', \n",
    "        'standar', 'pelayan', 'lokasi', \n",
    "        'keseluruhan', 'petugas', 'kualitas', 'pusat', \n",
    "        'perawat', 'dokter', 'harga', 'makanan', \n",
    "        'atas', 'interior', 'penanganan', 'ruang',  \n",
    "        'sleman', 'senyum', 'sekali', \n",
    "        'peningkatan', 'kelas', 'pengalaman', 'ruangan', \n",
    "        'rujukan', 'kesehatan', 'fasilitas', 'bangunan',\n",
    "        'masyarakat', 'operasi', 'pasien', 'tambah', \n",
    "        'pengunjung', 'bpjs', 'pendaftaran', 'obat', \n",
    "        'waktu', 'rumah_sakit', 'administrasi', 'pelayanan', \n",
    "        'keluarga', 'antrean', 'perbaikan', 'motor', 'toilet',\n",
    "        'sekali', 'suster', 'nomor','poliklinik']\n",
    "for index, noun in enumerate(index, noun):\n",
    "    print"
   ]
  },
  {
   "cell_type": "code",
   "execution_count": 26,
   "metadata": {},
   "outputs": [
    {
     "name": "stdout",
     "output_type": "stream",
     "text": [
      "[['rawat_inap', 'nyaman'], ['rawat_inap', 'modern'], ['rawat_inap', 'lengkap'], ['rawat_inap', 'indah'], ['perawat', 'prima'], ['perawat', 'unggul'], ['perawat', 'luas'], ['perawat', 'besar'], ['perawat', 'bagus'], ['perawat', 'nyaman'], ['perawat', 'baik'], ['perawat', 'ramah'], ['perawat', 'mumpuni'], ['perawat', 'cekatan'], ['perawat', 'lengkap'], ['perawat', 'ramah'], ['perawat', 'besar'], ['perawat', 'bagus'], ['dokter', 'prima'], ['dokter', 'unggul'], ['dokter', 'ramah'], ['dokter', 'luas'], ['dokter', 'besar'], ['dokter', 'bagus'], ['dokter', 'nyaman'], ['dokter', 'baik'], ['dokter', 'ramah'], ['dokter', 'baik'], ['dokter', 'mumpuni'], ['dokter', 'cekatan'], ['dokter', 'lengkap'], ['dokter', 'sangat_baik'], ['dokter', 'megah'], ['dokter', 'cepat'], ['ruang', 'enak'], ['ruang', 'enak'], ['ruang', 'nyaman'], ['ruang', 'nyaman'], ['ruang', 'besar'], ['ruang', 'besar'], ['ruang', 'ramah'], ['ruang', 'ramah'], ['ruang', 'bersih'], ['ruang', 'bersih'], ['ruang', 'mewah'], ['ruang', 'mewah'], ['ruang', 'internasional'], ['ruang', 'internasional'], ['kelas', 'baik'], ['kelas', 'nyaman'], ['ruangan', 'nyaman'], ['ruangan', 'bersih'], ['ruangan', 'ramah'], ['ruangan', 'banyak'], ['ruangan', 'bagus'], ['ruangan', 'cukup_bagus'], ['kesehatan', 'ramah'], ['kesehatan', 'ramah'], ['kesehatan', 'puas'], ['kesehatan', 'puas'], ['kesehatan', 'ramai'], ['kesehatan', 'ramai'], ['kesehatan', 'nyaman'], ['kesehatan', 'nyaman'], ['operasi', 'baik'], ['operasi', 'ramah'], ['operasi', 'besar'], ['operasi', 'bagus'], ['perawat', 'baik'], ['pasien', 'cepat'], ['pasien', 'sedikit'], ['pasien', 'nyaman']]\n"
     ]
    }
   ],
   "source": [
    "frasa = [['tempat', 'luas'], ['tempat', 'murah'], ['tempat', 'bersih'], \n",
    "         ['tempat', 'modern'], ['tempat', 'lengkap'], ['tempat', 'indah'],\n",
    "         ['tempat', 'bagus'], ['tempat', 'nyaman'], ['tempat', 'baik'], ['tempat', 'ramah'],\n",
    "         ['tempat', 'banyak'], ['tempat', 'cukup_bagus'], ['tempat', 'besar'], \n",
    "         ['tempat', 'mumpuni'], ['tempat', 'cekatan'],['tempat', 'puas'], ['tempat', 'ramai'], \n",
    "         ['sistem', 'luas'], ['sistem', 'murah'], ['sistem', 'bersih'], ['sistem', 'nyaman'], \n",
    "         ['pegawai', 'luas'], ['pegawai', 'murah'], ['pegawai', 'bersih'], ['pegawai', 'nyaman'], \n",
    "         ['taman', 'luas'], ['taman', 'murah'], ['taman', 'bersih'], ['taman', 'nyaman'], \n",
    "         ['fasilitas', 'lengkap'], ['fasilitas', 'bagus'], ['fasilitas', 'ramah'], \n",
    "         ['fasilitas', 'nyaman'], ['fasilitas', 'modern'], ['fasilitas', 'indah'],\n",
    "         ['fasilitas', 'ramah'], ['fasilitas', 'puas'], ['fasilitas', 'ramai'], ['fasilitas', 'nyaman'], \n",
    "         ['fasilitas', 'sangat_baik'], ['fasilitas', 'megah'], ['fasilitas', 'cepat'], \n",
    "         ['fasilitas', 'baik'], ['fasilitas', 'besar'], \n",
    "         ['standar', 'lengkap'], ['standar', 'bagus'], ['standar', 'ramah'], \n",
    "         ['pelayan', 'lengkap'], ['pelayan', 'bagus'], ['pelayan', 'ramah'],\n",
    "         ['pelayan', 'enak'], ['pelayan', 'nyaman'], ['pelayan', 'besar'], ['pelayan', 'bersih'],\n",
    "         ['lokasi', 'lengkap'], ['lokasi', 'bagus'], ['lokasi', 'ramah'], \n",
    "         ['keseluruhan', 'lengkap'], ['keseluruhan', 'bagus'], ['keseluruhan', 'ramah'], \n",
    "         ['petugas', 'sangat_profesional'], ['petugas', 'ramah'], ['petugas', 'jauh'], ['petugas', 'baik'], \n",
    "         ['petugas', 'swasta'], ['petugas', 'prima'], ['petugas', 'unggul'],['petugas', 'luas'], ['petugas', 'besar'],\n",
    "         ['petugas', 'nyaman'], ['petugas', 'bersih'], ['petugas', 'banyak'], \n",
    "         ['petugas', 'sangat_baik'], ['petugas', 'megah'], ['petugas', 'cepat'],\n",
    "         ['petugas', 'bagus'], ['petugas', 'cukup_bagus'],\n",
    "         ['kualitas', 'nyaman'], ['kualitas', 'modern'], ['kualitas', 'lengkap'], ['kualitas', 'indah'], \n",
    "         ['rawat_inap', 'nyaman'], ['rawat_inap', 'modern'], ['rawat_inap', 'lengkap'], ['rawat_inap', 'indah'], \n",
    "         ['pusat', 'prima'], ['pusat', 'unggul'], ['pusat', 'ramah'], ['pusat', 'luas'], ['pusat', 'besar'], \n",
    "         ['perawat', 'prima'], ['perawat', 'unggul'], ['perawat', 'luas'], ['perawat', 'besar'],\n",
    "         ['perawat', 'bagus'], ['perawat', 'nyaman'], ['perawat', 'baik'], ['perawat', 'ramah'],\n",
    "         ['perawat', 'mumpuni'], ['perawat', 'cekatan'], ['perawat', 'lengkap'],\n",
    "         ['perawat', 'ramah'], ['perawat', 'besar'], ['perawat', 'bagus'],\n",
    "         ['dokter', 'prima'], ['dokter', 'unggul'], ['dokter', 'ramah'], ['dokter', 'luas'], ['dokter', 'besar'], \n",
    "         ['dokter', 'bagus'], ['dokter', 'nyaman'], ['dokter', 'baik'], ['dokter', 'ramah'], \n",
    "         ['dokter', 'baik'], \n",
    "         ['dokter', 'mumpuni'], ['dokter', 'cekatan'], ['dokter', 'lengkap'],\n",
    "         ['dokter', 'sangat_baik'], ['dokter', 'megah'], ['dokter', 'cepat'], \n",
    "         ['harga', 'bagus'], ['harga', 'nyaman'], ['harga', 'baik'], ['harga', 'ramah'], ['makanan', 'bagus'], \n",
    "         ['makanan', 'nyaman'], ['makanan', 'baik'], ['makanan', 'ramah'], \n",
    "         ['standar', 'nyaman'], ['standar', 'bersih'], ['standar', 'bagus'], \n",
    "         ['atas', 'nyaman'], ['atas', 'bersih'], ['atas', 'bagus'], \n",
    "         ['interior', 'nyaman'], ['interior', 'bersih'], ['interior', 'bagus'], \n",
    "         ['penanganan', 'nyaman'], ['penanganan', 'bersih'], ['penanganan', 'bagus'], \n",
    "         ['ruang', 'enak'], ['ruang', 'nyaman'], ['ruang', 'besar'], ['ruang', 'ramah'], ['ruang', 'bersih'], \n",
    "         ['ruang', 'mewah'], ['ruang', 'internasional'], \n",
    "         ['sleman', 'mewah'], ['sleman', 'internasional'], \n",
    "         ['makanan', 'mewah'], ['makanan', 'internasional'], \n",
    "         ['senyum', 'bagus'], ['senyum', 'ramah'], ['senyum', 'mumpuni'], ['senyum', 'cekatan'], ['senyum', 'lengkap'], \n",
    "         ['interior', 'bagus'], ['interior', 'ramah'], ['interior', 'mumpuni'], ['interior', 'cekatan'], ['interior', 'lengkap'], \n",
    "         ['sekali', 'baik'], ['sekali', 'nyaman'], \n",
    "         ['peningkatan', 'baik'], ['peningkatan', 'nyaman'], \n",
    "         ['kelas', 'baik'], ['kelas', 'nyaman'], \n",
    "         ['pengalaman', 'baik'], ['pengalaman', 'nyaman'], \n",
    "         ['ruangan', 'nyaman'], ['ruangan', 'bersih'], ['ruangan', 'ramah'], \n",
    "         ['ruangan', 'banyak'], ['ruangan', 'bagus'], ['ruangan', 'cukup_bagus'], \n",
    "         ['rujukan', 'ramah'], ['rujukan', 'puas'], ['rujukan', 'ramai'], ['rujukan', 'nyaman'], \n",
    "         ['kesehatan', 'ramah'], ['kesehatan', 'puas'], ['kesehatan', 'ramai'], ['kesehatan', 'nyaman'], \n",
    "         ['bangunan', 'ramah'], ['bangunan', 'puas'], ['bangunan', 'ramai'], ['bangunan', 'nyaman'], \n",
    "         ['masyarakat', 'sangat_baik'], ['masyarakat', 'megah'], ['masyarakat', 'cepat'], \n",
    "         ['operasi', 'baik'], ['operasi', 'ramah'], ['operasi', 'besar'], ['operasi', 'bagus'], ['perawat', 'baik'], \n",
    "         ['pasien', 'cepat'], ['pasien', 'sedikit'], ['pasien', 'nyaman'], \n",
    "         ['tambah', 'cepat'], ['tambah', 'sedikit'], ['tambah', 'nyaman'], \n",
    "         ['pengunjung', 'cepat'], ['pengunjung', 'sedikit'], ['pengunjung', 'nyaman'], \n",
    "         ['bpjs', 'cepat'], ['bpjs', 'sedikit'], ['bpjs', 'nyaman']]\n",
    "        \n",
    "\n",
    "y = 0\n",
    "medis = ['poliklinik','suster', 'rumah_sakit', 'obat',\n",
    "    'pasien','operasi','kesehatan',\n",
    "    'ruang','dokter','perawat','kelas','rawat_inap',\n",
    "    'ruangan','kesehatan','rumah_sakit']\n",
    "# nonmedis = ['tempat','sistem','pegawai','taman',\n",
    "#            'standar','pelayan','lokasi','keseluruhan',\n",
    "#            'petugas','kualitas','pusat','makanan','atas',\n",
    "#            'interior','penanganan','ruang','sleman','senyum',\n",
    "#            'sekali','peningkatan','kelas','pengalaman',\n",
    "#            'rujukan','fasilitas','bangunan','masyarakat',\n",
    "#            'tambah','pengunjung','bpjs','pendaftaran',\n",
    "#            'waktu','administrasi','pelayanan','motor','toilet','nomor',\n",
    "#            'pegawai','taman']\n",
    "medd = []\n",
    "for x in range(len(frasa)): \n",
    "    \n",
    "    \n",
    "    for m in medis:\n",
    "        \n",
    "        if frasa[x][y] in m:\n",
    "            med = []\n",
    "            med.append(frasa[x][y])\n",
    "            med.append(frasa[x][y+1])\n",
    "            medd.append(med)\n",
    "            \n",
    "print(medd)\n",
    "# for x in range(len(frasa)):\n",
    "#     m = []\n",
    "#     nm = []\n",
    "    \n",
    "#     if frasa[x][y] in :\n",
    "#         m.append(frasa)\n",
    "#         print(frasa)  "
   ]
  },
  {
   "cell_type": "code",
   "execution_count": 27,
   "metadata": {},
   "outputs": [
    {
     "name": "stdout",
     "output_type": "stream",
     "text": [
      "[['tempat', 'luas'], ['tempat', 'murah'], ['tempat', 'bersih'], ['tempat', 'modern'], ['tempat', 'lengkap'], ['tempat', 'indah'], ['tempat', 'bagus'], ['tempat', 'nyaman'], ['tempat', 'baik'], ['tempat', 'ramah'], ['tempat', 'banyak'], ['tempat', 'cukup_bagus'], ['tempat', 'besar'], ['tempat', 'mumpuni'], ['tempat', 'cekatan'], ['tempat', 'puas'], ['tempat', 'ramai'], ['sistem', 'luas'], ['sistem', 'murah'], ['sistem', 'bersih'], ['sistem', 'nyaman'], ['pegawai', 'luas'], ['pegawai', 'luas'], ['pegawai', 'murah'], ['pegawai', 'murah'], ['pegawai', 'bersih'], ['pegawai', 'bersih'], ['pegawai', 'nyaman'], ['pegawai', 'nyaman'], ['taman', 'luas'], ['taman', 'luas'], ['taman', 'murah'], ['taman', 'murah'], ['taman', 'bersih'], ['taman', 'bersih'], ['taman', 'nyaman'], ['taman', 'nyaman'], ['fasilitas', 'lengkap'], ['fasilitas', 'bagus'], ['fasilitas', 'ramah'], ['fasilitas', 'nyaman'], ['fasilitas', 'modern'], ['fasilitas', 'indah'], ['fasilitas', 'ramah'], ['fasilitas', 'puas'], ['fasilitas', 'ramai'], ['fasilitas', 'nyaman'], ['fasilitas', 'sangat_baik'], ['fasilitas', 'megah'], ['fasilitas', 'cepat'], ['fasilitas', 'baik'], ['fasilitas', 'besar'], ['standar', 'lengkap'], ['standar', 'bagus'], ['standar', 'ramah'], ['pelayan', 'lengkap'], ['pelayan', 'lengkap'], ['pelayan', 'bagus'], ['pelayan', 'bagus'], ['pelayan', 'ramah'], ['pelayan', 'ramah'], ['pelayan', 'enak'], ['pelayan', 'enak'], ['pelayan', 'nyaman'], ['pelayan', 'nyaman'], ['pelayan', 'besar'], ['pelayan', 'besar'], ['pelayan', 'bersih'], ['pelayan', 'bersih'], ['lokasi', 'lengkap'], ['lokasi', 'bagus'], ['lokasi', 'ramah'], ['keseluruhan', 'lengkap'], ['keseluruhan', 'bagus'], ['keseluruhan', 'ramah'], ['petugas', 'sangat_profesional'], ['petugas', 'ramah'], ['petugas', 'jauh'], ['petugas', 'baik'], ['petugas', 'swasta'], ['petugas', 'prima'], ['petugas', 'unggul'], ['petugas', 'luas'], ['petugas', 'besar'], ['petugas', 'nyaman'], ['petugas', 'bersih'], ['petugas', 'banyak'], ['petugas', 'sangat_baik'], ['petugas', 'megah'], ['petugas', 'cepat'], ['petugas', 'bagus'], ['petugas', 'cukup_bagus'], ['kualitas', 'nyaman'], ['kualitas', 'modern'], ['kualitas', 'lengkap'], ['kualitas', 'indah'], ['pusat', 'prima'], ['pusat', 'unggul'], ['pusat', 'ramah'], ['pusat', 'luas'], ['pusat', 'besar'], ['makanan', 'bagus'], ['makanan', 'nyaman'], ['makanan', 'baik'], ['makanan', 'ramah'], ['standar', 'nyaman'], ['standar', 'bersih'], ['standar', 'bagus'], ['atas', 'nyaman'], ['atas', 'bersih'], ['atas', 'bagus'], ['interior', 'nyaman'], ['interior', 'bersih'], ['interior', 'bagus'], ['penanganan', 'nyaman'], ['penanganan', 'bersih'], ['penanganan', 'bagus'], ['ruang', 'enak'], ['ruang', 'nyaman'], ['ruang', 'besar'], ['ruang', 'ramah'], ['ruang', 'bersih'], ['ruang', 'mewah'], ['ruang', 'internasional'], ['sleman', 'mewah'], ['sleman', 'internasional'], ['makanan', 'mewah'], ['makanan', 'internasional'], ['senyum', 'bagus'], ['senyum', 'ramah'], ['senyum', 'mumpuni'], ['senyum', 'cekatan'], ['senyum', 'lengkap'], ['interior', 'bagus'], ['interior', 'ramah'], ['interior', 'mumpuni'], ['interior', 'cekatan'], ['interior', 'lengkap'], ['sekali', 'baik'], ['sekali', 'nyaman'], ['peningkatan', 'baik'], ['peningkatan', 'nyaman'], ['kelas', 'baik'], ['kelas', 'nyaman'], ['pengalaman', 'baik'], ['pengalaman', 'nyaman'], ['rujukan', 'ramah'], ['rujukan', 'puas'], ['rujukan', 'ramai'], ['rujukan', 'nyaman'], ['bangunan', 'ramah'], ['bangunan', 'puas'], ['bangunan', 'ramai'], ['bangunan', 'nyaman'], ['masyarakat', 'sangat_baik'], ['masyarakat', 'megah'], ['masyarakat', 'cepat'], ['tambah', 'cepat'], ['tambah', 'sedikit'], ['tambah', 'nyaman'], ['pengunjung', 'cepat'], ['pengunjung', 'sedikit'], ['pengunjung', 'nyaman'], ['bpjs', 'cepat'], ['bpjs', 'sedikit'], ['bpjs', 'nyaman']]\n"
     ]
    }
   ],
   "source": [
    "frasa = [['tempat', 'luas'], ['tempat', 'murah'], ['tempat', 'bersih'], \n",
    "         ['tempat', 'modern'], ['tempat', 'lengkap'], ['tempat', 'indah'],\n",
    "         ['tempat', 'bagus'], ['tempat', 'nyaman'], ['tempat', 'baik'], ['tempat', 'ramah'],\n",
    "         ['tempat', 'banyak'], ['tempat', 'cukup_bagus'], ['tempat', 'besar'], \n",
    "         ['tempat', 'mumpuni'], ['tempat', 'cekatan'],['tempat', 'puas'], ['tempat', 'ramai'], \n",
    "         ['sistem', 'luas'], ['sistem', 'murah'], ['sistem', 'bersih'], ['sistem', 'nyaman'], \n",
    "         ['pegawai', 'luas'], ['pegawai', 'murah'], ['pegawai', 'bersih'], ['pegawai', 'nyaman'], \n",
    "         ['taman', 'luas'], ['taman', 'murah'], ['taman', 'bersih'], ['taman', 'nyaman'], \n",
    "         ['fasilitas', 'lengkap'], ['fasilitas', 'bagus'], ['fasilitas', 'ramah'], \n",
    "         ['fasilitas', 'nyaman'], ['fasilitas', 'modern'], ['fasilitas', 'indah'],\n",
    "         ['fasilitas', 'ramah'], ['fasilitas', 'puas'], ['fasilitas', 'ramai'], ['fasilitas', 'nyaman'], \n",
    "         ['fasilitas', 'sangat_baik'], ['fasilitas', 'megah'], ['fasilitas', 'cepat'], \n",
    "         ['fasilitas', 'baik'], ['fasilitas', 'besar'], \n",
    "         ['standar', 'lengkap'], ['standar', 'bagus'], ['standar', 'ramah'], \n",
    "         ['pelayan', 'lengkap'], ['pelayan', 'bagus'], ['pelayan', 'ramah'],\n",
    "         ['pelayan', 'enak'], ['pelayan', 'nyaman'], ['pelayan', 'besar'], ['pelayan', 'bersih'],\n",
    "         ['lokasi', 'lengkap'], ['lokasi', 'bagus'], ['lokasi', 'ramah'], \n",
    "         ['keseluruhan', 'lengkap'], ['keseluruhan', 'bagus'], ['keseluruhan', 'ramah'], \n",
    "         ['petugas', 'sangat_profesional'], ['petugas', 'ramah'], ['petugas', 'jauh'], ['petugas', 'baik'], \n",
    "         ['petugas', 'swasta'], ['petugas', 'prima'], ['petugas', 'unggul'],['petugas', 'luas'], ['petugas', 'besar'],\n",
    "         ['petugas', 'nyaman'], ['petugas', 'bersih'], ['petugas', 'banyak'], \n",
    "         ['petugas', 'sangat_baik'], ['petugas', 'megah'], ['petugas', 'cepat'],\n",
    "         ['petugas', 'bagus'], ['petugas', 'cukup_bagus'],\n",
    "         ['kualitas', 'nyaman'], ['kualitas', 'modern'], ['kualitas', 'lengkap'], ['kualitas', 'indah'], \n",
    "         ['rawat_inap', 'nyaman'], ['rawat_inap', 'modern'], ['rawat_inap', 'lengkap'], ['rawat_inap', 'indah'], \n",
    "         ['pusat', 'prima'], ['pusat', 'unggul'], ['pusat', 'ramah'], ['pusat', 'luas'], ['pusat', 'besar'], \n",
    "         ['perawat', 'prima'], ['perawat', 'unggul'], ['perawat', 'luas'], ['perawat', 'besar'],\n",
    "         ['perawat', 'bagus'], ['perawat', 'nyaman'], ['perawat', 'baik'], ['perawat', 'ramah'],\n",
    "         ['perawat', 'mumpuni'], ['perawat', 'cekatan'], ['perawat', 'lengkap'],\n",
    "         ['perawat', 'ramah'], ['perawat', 'besar'], ['perawat', 'bagus'],\n",
    "         ['dokter', 'prima'], ['dokter', 'unggul'], ['dokter', 'ramah'], ['dokter', 'luas'], ['dokter', 'besar'], \n",
    "         ['dokter', 'bagus'], ['dokter', 'nyaman'], ['dokter', 'baik'], ['dokter', 'ramah'], \n",
    "         ['dokter', 'baik'], \n",
    "         ['dokter', 'mumpuni'], ['dokter', 'cekatan'], ['dokter', 'lengkap'],\n",
    "         ['dokter', 'sangat_baik'], ['dokter', 'megah'], ['dokter', 'cepat'], \n",
    "         ['harga', 'bagus'], ['harga', 'nyaman'], ['harga', 'baik'], ['harga', 'ramah'], ['makanan', 'bagus'], \n",
    "         ['makanan', 'nyaman'], ['makanan', 'baik'], ['makanan', 'ramah'], \n",
    "         ['standar', 'nyaman'], ['standar', 'bersih'], ['standar', 'bagus'], \n",
    "         ['atas', 'nyaman'], ['atas', 'bersih'], ['atas', 'bagus'], \n",
    "         ['interior', 'nyaman'], ['interior', 'bersih'], ['interior', 'bagus'], \n",
    "         ['penanganan', 'nyaman'], ['penanganan', 'bersih'], ['penanganan', 'bagus'], \n",
    "         ['ruang', 'enak'], ['ruang', 'nyaman'], ['ruang', 'besar'], ['ruang', 'ramah'], ['ruang', 'bersih'], \n",
    "         ['ruang', 'mewah'], ['ruang', 'internasional'], \n",
    "         ['sleman', 'mewah'], ['sleman', 'internasional'], \n",
    "         ['makanan', 'mewah'], ['makanan', 'internasional'], \n",
    "         ['senyum', 'bagus'], ['senyum', 'ramah'], ['senyum', 'mumpuni'], ['senyum', 'cekatan'], ['senyum', 'lengkap'], \n",
    "         ['interior', 'bagus'], ['interior', 'ramah'], ['interior', 'mumpuni'], ['interior', 'cekatan'], ['interior', 'lengkap'], \n",
    "         ['sekali', 'baik'], ['sekali', 'nyaman'], \n",
    "         ['peningkatan', 'baik'], ['peningkatan', 'nyaman'], \n",
    "         ['kelas', 'baik'], ['kelas', 'nyaman'], \n",
    "         ['pengalaman', 'baik'], ['pengalaman', 'nyaman'], \n",
    "         ['ruangan', 'nyaman'], ['ruangan', 'bersih'], ['ruangan', 'ramah'], \n",
    "         ['ruangan', 'banyak'], ['ruangan', 'bagus'], ['ruangan', 'cukup_bagus'], \n",
    "         ['rujukan', 'ramah'], ['rujukan', 'puas'], ['rujukan', 'ramai'], ['rujukan', 'nyaman'], \n",
    "         ['kesehatan', 'ramah'], ['kesehatan', 'puas'], ['kesehatan', 'ramai'], ['kesehatan', 'nyaman'], \n",
    "         ['bangunan', 'ramah'], ['bangunan', 'puas'], ['bangunan', 'ramai'], ['bangunan', 'nyaman'], \n",
    "         ['masyarakat', 'sangat_baik'], ['masyarakat', 'megah'], ['masyarakat', 'cepat'], \n",
    "         ['operasi', 'baik'], ['operasi', 'ramah'], ['operasi', 'besar'], ['operasi', 'bagus'], ['perawat', 'baik'], \n",
    "         ['pasien', 'cepat'], ['pasien', 'sedikit'], ['pasien', 'nyaman'], \n",
    "         ['tambah', 'cepat'], ['tambah', 'sedikit'], ['tambah', 'nyaman'], \n",
    "         ['pengunjung', 'cepat'], ['pengunjung', 'sedikit'], ['pengunjung', 'nyaman'], \n",
    "         ['bpjs', 'cepat'], ['bpjs', 'sedikit'], ['bpjs', 'nyaman']]\n",
    "nonmed = []\n",
    "\n",
    "\n",
    "y = 0\n",
    "# medis = ['poliklinik','suster', 'rumah_sakit', 'obat',\n",
    "#     'pasien','operasi','kesehatan',\n",
    "#     'ruang','dokter','perawat','kelas','rawat_inap',\n",
    "#     'ruangan','kesehatan','rumah_sakit']\n",
    "nonmedis = ['tempat','sistem','pegawai','taman',\n",
    "           'standar','pelayan','lokasi','keseluruhan',\n",
    "           'petugas','kualitas','pusat','makanan','atas',\n",
    "           'interior','penanganan','ruang','sleman','senyum',\n",
    "           'sekali','peningkatan','kelas','pengalaman',\n",
    "           'rujukan','fasilitas','bangunan','masyarakat',\n",
    "           'tambah','pengunjung','bpjs','pendaftaran',\n",
    "           'waktu','administrasi','pelayanan','motor','toilet','nomor',\n",
    "           'pegawai','taman']\n",
    "\n",
    "for x in range(len(frasa)): \n",
    "    \n",
    "    \n",
    "    for m in nonmedis:\n",
    "        \n",
    "        if frasa[x][y] in m:\n",
    "            med = []\n",
    "            med.append(frasa[x][y])\n",
    "            med.append(frasa[x][y+1])\n",
    "            nonmed.append(med)\n",
    "            \n",
    "print(nonmed)\n",
    " "
   ]
  },
  {
   "cell_type": "code",
   "execution_count": 30,
   "metadata": {},
   "outputs": [
    {
     "name": "stdout",
     "output_type": "stream",
     "text": [
      "[['pasien', 'lama'], ['pasien', 'sedikit'], ['pasien', 'mahal'], ['pasien', 'benar'], ['obat', 'lama'], ['obat', 'banyak'], ['obat', 'sedikit'], ['rumah_sakit', 'banyak'], ['rumah_sakit', 'banyak'], ['rumah_sakit', 'buruk'], ['rumah_sakit', 'buruk'], ['dokter', 'sedikit'], ['dokter', 'mahal'], ['dokter', 'benar'], ['dokter', 'banyak'], ['dokter', 'lama'], ['dokter', 'penting'], ['dokter', 'tidak_rekomendasi'], ['dokter', 'profesional'], ['perawat', 'banyak'], ['perawat', 'lama'], ['perawat', 'penting'], ['pasien', 'banyak'], ['pasien', 'lama'], ['pasien', 'sedikit'], ['pasien', 'penting'], ['pasien', 'mahal'], ['pasien', 'kecewa'], ['pasien', 'terburuk'], ['pasien', 'tidak_rekomendasi'], ['pasien', 'profesional'], ['pasien', 'susah'], ['rumah_sakit', 'ribet'], ['rumah_sakit', 'ribet'], ['rumah_sakit', 'panjang'], ['rumah_sakit', 'panjang'], ['rumah_sakit', 'sesuai'], ['rumah_sakit', 'sesuai'], ['rumah_sakit', 'sakit'], ['rumah_sakit', 'sakit'], ['rumah_sakit', 'penting'], ['rumah_sakit', 'penting'], ['rumah_sakit', 'mahal'], ['rumah_sakit', 'mahal'], ['rumah_sakit', 'lama'], ['rumah_sakit', 'lama'], ['rumah_sakit', 'kecewa'], ['rumah_sakit', 'kecewa'], ['rumah_sakit', 'sedikit'], ['rumah_sakit', 'sedikit'], ['rumah_sakit', 'terburuk'], ['rumah_sakit', 'terburuk'], ['suster', 'sakit'], ['poliklinik', 'sakit'], ['ruangan', 'mahal'], ['ruang', 'mahal'], ['ruang', 'mahal']]\n"
     ]
    }
   ],
   "source": [
    "negatif = [['sekali', 'lama'], \n",
    "           ['pendaftaran', 'lama'], ['pendaftaran', 'sedikit'],\n",
    "           ['pasien', 'lama'], ['pasien', 'sedikit'], ['pasien', 'mahal'], ['pasien', 'benar'], \n",
    "           ['obat', 'lama'], ['obat', 'banyak'], ['obat', 'sedikit'],\n",
    "           ['waktu', 'banyak'], ['waktu', 'buruk'], \n",
    "           ['rumah_sakit', 'banyak'], ['rumah_sakit', 'buruk'], \n",
    "           ['administrasi', 'banyak'], ['administrasi', 'buruk'], \n",
    "           ['pelayanan', 'banyak'], ['pelayanan', 'buruk'], ['pelayanan', 'lama'], ['pelayanan', 'sedikit'],\n",
    "           ['pelayanan', 'penting'], ['pelayanan', 'mahal'], ['pelayanan', 'kecewa'],['pelayanan', 'terburuk'], \n",
    "           ['dokter', 'sedikit'], ['dokter', 'mahal'], ['dokter', 'benar'], \n",
    "           ['dokter', 'banyak'], ['dokter', 'lama'], ['dokter', 'penting'], \n",
    "           ['dokter', 'tidak_rekomendasi'], ['dokter', 'profesional'], \n",
    "           ['keluarga', 'sedikit'], ['keluarga', 'mahal'], ['keluarga', 'benar'], \n",
    "           ['antrean', 'sedikit'], ['antrean', 'mahal'], ['antrean', 'benar'], \n",
    "           ['antrean', 'banyak'], ['antrean', 'lama'], ['antrean', 'kurang_baik'], ['antrean', 'kurang_ramah'],\n",
    "           ['antrean', 'ribet'], ['antrean', 'panjang'], ['antrean', 'sesuai'], ['antrean', 'sakit'], \n",
    "           ['antrean', 'susah'], ['antrean', 'mahal'], ['antrean', 'kecewa'], ['antrean', 'terburuk'], \n",
    "           ['perawat', 'banyak'], ['perawat', 'lama'], ['perawat', 'penting'], \n",
    "           ['pasien', 'banyak'], ['pasien', 'lama'], ['pasien', 'sedikit'], ['pasien', 'penting'], \n",
    "           ['pasien', 'mahal'], ['pasien', 'kecewa'], ['pasien', 'terburuk'],\n",
    "           ['pasien', 'tidak_rekomendasi'], ['pasien', 'profesional'], \n",
    "           ['parkiran', 'sedikit'], ['pasien', 'susah'], \n",
    "           ['tempat', 'sedikit'], ['tempat', 'kurang_baik'], ['tempat', 'kurang_ramah'], ['tempat', 'susah'], \n",
    "           ['tempat', 'mahal'],\n",
    "           ['rumah_sakit', 'ribet'], ['rumah_sakit', 'panjang'], ['rumah_sakit', 'sesuai'], ['rumah_sakit', 'sakit'], \n",
    "           ['rumah_sakit', 'penting'], ['rumah_sakit', 'mahal'], ['rumah_sakit', 'lama'], \n",
    "           ['rumah_sakit', 'kecewa'], ['rumah_sakit', 'sedikit'], ['rumah_sakit', 'terburuk'], \n",
    "           ['petugas', 'ribet'], ['petugas', 'panjang'], ['petugas', 'sesuai'], \n",
    "           ['toilet', 'ribet'], ['toilet', 'panjang'], ['toilet', 'sesuai'], \n",
    "           ['sekali', 'ribet'], ['sekali', 'panjang'], ['sekali', 'sesuai'], \n",
    "           ['tanya', 'ribet'], ['tanya', 'panjang'], ['tanya', 'sesuai'], \n",
    "           ['suster', 'sakit'], \n",
    "           ['nomor', 'sakit'], ['nomor', 'susah'], ['nomor', 'sedikit'],\n",
    "           ['poliklinik', 'sakit'], \n",
    "           ['waktu', 'susah'], ['waktu', 'sedikit'],\n",
    "           ['waktu', 'tidak_rekomendasi'], ['waktu', 'lama'], ['waktu', 'profesional'],\n",
    "           ['ugd', 'mahal'], \n",
    "           ['ruangan', 'mahal'],  \n",
    "           ['ruang', 'mahal'], \n",
    "           ['tindakan', 'tidak_rekomendasi'], ['tindakan', 'lama'], ['tindakan', 'profesional']]\n",
    "\n",
    "y = 0\n",
    "medis = ['poliklinik','suster', 'rumah_sakit', 'obat',\n",
    "    'pasien','operasi','kesehatan',\n",
    "    'ruang','dokter','perawat','kelas','rawat_inap',\n",
    "    'ruangan','kesehatan','rumah_sakit']\n",
    "\n",
    "medneg = []\n",
    "for x in range(len(negatif)): \n",
    "    \n",
    "    \n",
    "    for m in medis:\n",
    "        \n",
    "        if negatif[x][y] in m:\n",
    "            med = []\n",
    "            med.append(negatif[x][y])\n",
    "            med.append(negatif[x][y+1])\n",
    "            medneg.append(med)\n",
    "            \n",
    "print(medneg)\n"
   ]
  },
  {
   "cell_type": "code",
   "execution_count": 5,
   "metadata": {},
   "outputs": [
    {
     "name": "stdout",
     "output_type": "stream",
     "text": [
      "[['sekali', 'lama'], ['pendaftaran', 'lama'], ['pendaftaran', 'sedikit'], ['waktu', 'banyak'], ['waktu', 'buruk'], ['administrasi', 'banyak'], ['administrasi', 'buruk'], ['pelayanan', 'banyak'], ['pelayanan', 'buruk'], ['pelayanan', 'lama'], ['pelayanan', 'sedikit'], ['pelayanan', 'penting'], ['pelayanan', 'mahal'], ['pelayanan', 'kecewa'], ['pelayanan', 'terburuk'], ['tempat', 'sedikit'], ['tempat', 'kurang_baik'], ['tempat', 'kurang_ramah'], ['tempat', 'susah'], ['tempat', 'mahal'], ['petugas', 'ribet'], ['petugas', 'panjang'], ['petugas', 'sesuai'], ['toilet', 'ribet'], ['toilet', 'panjang'], ['toilet', 'sesuai'], ['sekali', 'ribet'], ['sekali', 'panjang'], ['sekali', 'sesuai'], ['nomor', 'sakit'], ['nomor', 'susah'], ['nomor', 'sedikit'], ['waktu', 'susah'], ['waktu', 'sedikit'], ['waktu', 'tidak_rekomendasi'], ['waktu', 'lama'], ['waktu', 'profesional'], ['ruang', 'mahal']]\n"
     ]
    }
   ],
   "source": [
    "negatif = [['sekali', 'lama'], \n",
    "           ['pendaftaran', 'lama'], ['pendaftaran', 'sedikit'],\n",
    "           ['pasien', 'lama'], ['pasien', 'sedikit'], ['pasien', 'mahal'], ['pasien', 'benar'], \n",
    "           ['obat', 'lama'], ['obat', 'banyak'], ['obat', 'sedikit'],\n",
    "           ['waktu', 'banyak'], ['waktu', 'buruk'], \n",
    "           ['rumah_sakit', 'banyak'], ['rumah_sakit', 'buruk'], \n",
    "           ['administrasi', 'banyak'], ['administrasi', 'buruk'], \n",
    "           ['pelayanan', 'banyak'], ['pelayanan', 'buruk'], ['pelayanan', 'lama'], ['pelayanan', 'sedikit'],\n",
    "           ['pelayanan', 'penting'], ['pelayanan', 'mahal'], ['pelayanan', 'kecewa'],['pelayanan', 'terburuk'], \n",
    "           ['dokter', 'sedikit'], ['dokter', 'mahal'], ['dokter', 'benar'], \n",
    "           ['dokter', 'banyak'], ['dokter', 'lama'], ['dokter', 'penting'], \n",
    "           ['dokter', 'tidak_rekomendasi'], ['dokter', 'profesional'], \n",
    "           ['keluarga', 'sedikit'], ['keluarga', 'mahal'], ['keluarga', 'benar'], \n",
    "           ['antrean', 'sedikit'], ['antrean', 'mahal'], ['antrean', 'benar'], \n",
    "           ['antrean', 'banyak'], ['antrean', 'lama'], ['antrean', 'kurang_baik'], ['antrean', 'kurang_ramah'],\n",
    "           ['antrean', 'ribet'], ['antrean', 'panjang'], ['antrean', 'sesuai'], ['antrean', 'sakit'], \n",
    "           ['antrean', 'susah'], ['antrean', 'mahal'], ['antrean', 'kecewa'], ['antrean', 'terburuk'], \n",
    "           ['perawat', 'banyak'], ['perawat', 'lama'], ['perawat', 'penting'], \n",
    "           ['pasien', 'banyak'], ['pasien', 'lama'], ['pasien', 'sedikit'], ['pasien', 'penting'], \n",
    "           ['pasien', 'mahal'], ['pasien', 'kecewa'], ['pasien', 'terburuk'],\n",
    "           ['pasien', 'tidak_rekomendasi'], ['pasien', 'profesional'], \n",
    "           ['parkiran', 'sedikit'], ['pasien', 'susah'], \n",
    "           ['tempat', 'sedikit'], ['tempat', 'kurang_baik'], ['tempat', 'kurang_ramah'], ['tempat', 'susah'], \n",
    "           ['tempat', 'mahal'],\n",
    "           ['rumah_sakit', 'ribet'], ['rumah_sakit', 'panjang'], ['rumah_sakit', 'sesuai'], ['rumah_sakit', 'sakit'], \n",
    "           ['rumah_sakit', 'penting'], ['rumah_sakit', 'mahal'], ['rumah_sakit', 'lama'], \n",
    "           ['rumah_sakit', 'kecewa'], ['rumah_sakit', 'sedikit'], ['rumah_sakit', 'terburuk'], \n",
    "           ['petugas', 'ribet'], ['petugas', 'panjang'], ['petugas', 'sesuai'], \n",
    "           ['toilet', 'ribet'], ['toilet', 'panjang'], ['toilet', 'sesuai'], \n",
    "           ['sekali', 'ribet'], ['sekali', 'panjang'], ['sekali', 'sesuai'], \n",
    "           ['tanya', 'ribet'], ['tanya', 'panjang'], ['tanya', 'sesuai'], \n",
    "           ['suster', 'sakit'], \n",
    "           ['nomor', 'sakit'], ['nomor', 'susah'], ['nomor', 'sedikit'],\n",
    "           ['poliklinik', 'sakit'], \n",
    "           ['waktu', 'susah'], ['waktu', 'sedikit'],\n",
    "           ['waktu', 'tidak_rekomendasi'], ['waktu', 'lama'], ['waktu', 'profesional'],\n",
    "           ['ugd', 'mahal'], \n",
    "           ['ruangan', 'mahal'],  \n",
    "           ['ruang', 'mahal'], \n",
    "           ['tindakan', 'tidak_rekomendasi'], ['tindakan', 'lama'], ['tindakan', 'profesional']]\n",
    "\n",
    "nonmedis = ['tempat','sistem','pegawai','taman',\n",
    "           'standar','pelayan','lokasi','keseluruhan',\n",
    "           'petugas','kualitas','pusat','makanan','atas',\n",
    "           'interior','penanganan','ruang','sleman','senyum',\n",
    "           'sekali','peningkatan','kelas','pengalaman',\n",
    "           'rujukan','fasilitas','bangunan','masyarakat',\n",
    "           'tambah','pengunjung','bpjs','pendaftaran',\n",
    "           'waktu','administrasi','pelayanan','motor','toilet','nomor',\n",
    "           'pegawai','taman']\n",
    "y = 0\n",
    "nonmedneg = []\n",
    "for x in range(len(negatif)): \n",
    "    \n",
    "    \n",
    "    for m in nonmedis:\n",
    "        \n",
    "        if negatif[x][y] in m:\n",
    "            med = []\n",
    "            med.append(negatif[x][y])\n",
    "            med.append(negatif[x][y+1])\n",
    "            nonmedneg.append(med)\n",
    "            \n",
    "print(nonmedneg)"
   ]
  },
  {
   "cell_type": "code",
   "execution_count": null,
   "metadata": {},
   "outputs": [],
   "source": []
  }
 ],
 "metadata": {
  "kernelspec": {
   "display_name": "Python 3",
   "language": "python",
   "name": "python3"
  },
  "language_info": {
   "codemirror_mode": {
    "name": "ipython",
    "version": 3
   },
   "file_extension": ".py",
   "mimetype": "text/x-python",
   "name": "python",
   "nbconvert_exporter": "python",
   "pygments_lexer": "ipython3",
   "version": "3.7.0"
  }
 },
 "nbformat": 4,
 "nbformat_minor": 2
}
